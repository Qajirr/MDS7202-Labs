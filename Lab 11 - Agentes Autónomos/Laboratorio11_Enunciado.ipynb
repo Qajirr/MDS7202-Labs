{
 "cells": [
  {
   "cell_type": "markdown",
   "metadata": {
    "id": "PyPTffTLug7i"
   },
   "source": [
    "# **Laboratorio 11: LLM y Agentes Autónomos 🤖**\n",
    "\n",
    "MDS7202: Laboratorio de Programación Científica para Ciencia de Datos"
   ]
  },
  {
   "cell_type": "markdown",
   "metadata": {
    "id": "5pbWVyntzbvL"
   },
   "source": [
    "### **Cuerpo Docente:**\n",
    "\n",
    "- Profesores: Ignacio Meza, Sebastián Tinoco\n",
    "- Auxiliar: Eduardo Moya\n",
    "- Ayudantes: Nicolás Ojeda, Melanie Peña, Valentina Rojas"
   ]
  },
  {
   "cell_type": "markdown",
   "metadata": {
    "id": "dy6ikgVYzghB"
   },
   "source": [
    "### Equipo: **SUPER IMPORTANTE - notebooks sin nombre no serán revisados**\n",
    "\n",
    "- Nombre de alumno 1: Joaquín De Groote\n",
    "- Nombre de alumno 2: Vicente Pinochet R."
   ]
  },
  {
   "cell_type": "markdown",
   "metadata": {
    "id": "iMJ-owchzjFf"
   },
   "source": [
    "### **Link de repositorio de GitHub:** [Insertar Enlace](https://github.com/Qajirr/MDS7202-Labs)"
   ]
  },
  {
   "cell_type": "markdown",
   "metadata": {
    "id": "WUuwsXrKzmkK"
   },
   "source": [
    "## **Temas a tratar**\n",
    "\n",
    "- Reinforcement Learning\n",
    "- Large Language Models\n",
    "\n",
    "## **Reglas:**\n",
    "\n",
    "- **Grupos de 2 personas**\n",
    "- Cualquier duda fuera del horario de clases al foro. Mensajes al equipo docente serán respondidos por este medio.\n",
    "- Prohibidas las copias.\n",
    "- Pueden usar cualquer matrial del curso que estimen conveniente.\n",
    "\n",
    "### **Objetivos principales del laboratorio**\n",
    "\n",
    "- Resolución de problemas secuenciales usando Reinforcement Learning\n",
    "- Habilitar un Chatbot para entregar respuestas útiles usando Large Language Models.\n",
    "\n",
    "El laboratorio deberá ser desarrollado sin el uso indiscriminado de iteradores nativos de python (aka \"for\", \"while\"). La idea es que aprendan a exprimir al máximo las funciones optimizadas que nos entrega `pandas`, las cuales vale mencionar, son bastante más eficientes que los iteradores nativos sobre DataFrames."
   ]
  },
  {
   "cell_type": "markdown",
   "metadata": {
    "id": "0hmHHQ9BuyAG"
   },
   "source": [
    "## **1. Reinforcement Learning (2.0 puntos)**\n",
    "\n",
    "En esta sección van a usar métodos de RL para resolver dos problemas interesantes: `Blackjack` y `LunarLander`."
   ]
  },
  {
   "cell_type": "code",
   "execution_count": null,
   "metadata": {
    "id": "gOcejYb6uzOO"
   },
   "outputs": [],
   "source": [
    "!pip install -qqq gymnasium stable_baselines3\n",
    "!pip install -qqq swig\n",
    "!pip install -qqq gymnasium[box2d]"
   ]
  },
  {
   "cell_type": "markdown",
   "metadata": {
    "id": "qBPet_Mq8dX9"
   },
   "source": [
    "### **1.1 Blackjack (1.0 puntos)**\n",
    "\n",
    "<p align=\"center\">\n",
    "  <img src=\"https://www.recreoviral.com/wp-content/uploads/2016/08/s3.amazonaws.com-Math.gif\"\n",
    "\" width=\"400\">\n",
    "</p>\n",
    "\n",
    "La idea de esta subsección es que puedan implementar métodos de RL y así generar una estrategia para jugar el clásico juego Blackjack y de paso puedan ~~hacerse millonarios~~ aprender a resolver problemas mediante RL.\n",
    "\n",
    "Comencemos primero preparando el ambiente. El siguiente bloque de código transforma las observaciones del ambiente a `np.array`:\n"
   ]
  },
  {
   "cell_type": "markdown",
   "metadata": {},
   "source": [
    "</p>\n",
    "\n",
    "La idea de esta subsección es que puedan implementar métodos de RL y así generar una estrategia para jugar el clásico juego Blackjack y de paso puedan ~~hacerse millonarios~~ aprender a resolver problemas mediante RL.\n",
    "\n",
    "Comencemos primero preparando el ambiente. El siguiente bloque de código transforma las observaciones del ambiente a `np.array`:\n"
   ]
  },
  {
   "cell_type": "code",
   "execution_count": null,
   "metadata": {
    "id": "LpZ8bBKk9ZlU"
   },
   "outputs": [],
   "source": [
    "import gymnasium as gym\n",
    "from gymnasium.spaces import MultiDiscrete\n",
    "import numpy as np\n",
    "\n",
    "class FlattenObservation(gym.ObservationWrapper):\n",
    "    def __init__(self, env):\n",
    "        super(FlattenObservation, self).__init__(env)\n",
    "        self.observation_space = MultiDiscrete(np.array([32, 11, 2]))\n",
    "\n",
    "    def observation(self, observation):\n",
    "        return np.array(observation).flatten()\n",
    "\n",
    "# Create and wrap the environment\n",
    "env = gym.make(\"Blackjack-v1\")\n",
    "env = FlattenObservation(env)"
   ]
  },
  {
   "cell_type": "markdown",
   "metadata": {
    "id": "ZJ6J1_-Y9nHO"
   },
   "source": [
    "#### **1.1.1 Descripción de MDP (0.2 puntos)**\n",
    "\n",
    "Entregue una breve descripción sobre el ambiente [Blackjack](https://gymnasium.farama.org/environments/toy_text/blackjack/) y su formulación en MDP, distinguiendo de forma clara y concisa los estados, acciones y recompensas."
   ]
  },
  {
   "cell_type": "markdown",
   "metadata": {
    "id": "G5i1Wt1p770x"
   },
   "source": [
    "`escriba su respuesta acá`\n",
    "\n",
    "**Blackjack - Descripción del Ambiente**\n",
    "\n",
    "El objetivo en **Blackjack** es vencer al dealer obteniendo cartas que sumen lo más cerca posible a 21, sin pasarse. El juego comienza con el dealer mostrando una carta y otra oculta, mientras el jugador recibe dos cartas visibles. Las cartas se sacan de un mazo infinito.\n",
    "\n",
    "**Valores de las cartas**:\n",
    "- Cartas de figuras (J, Q, K): **10 puntos**.\n",
    "- Ases: **1 o 11 puntos** (usable ace).\n",
    "- Cartas numéricas (2-9): Valor numérico.\n",
    "\n",
    "**Acciones**:\n",
    "- **0 (Stick)**: Detenerse.\n",
    "- **1 (Hit)**: Pedir una carta.\n",
    "\n",
    "**Espacio de observación**:\n",
    "- Tupla \\((suma\\_jugador, carta\\_dealer, as\\_usable)\\):\n",
    "  - **suma\\_jugador**: 4-21.\n",
    "  - **carta\\_dealer**: 1-10.\n",
    "  - **as\\_usable**: 0 o 1.\n",
    "\n",
    "**Recompensas**:\n",
    "- **+1**: Victoria.\n",
    "- **0**: Empate.\n",
    "- **-1**: Derrota.\n",
    "- **+1.5**: Blackjack natural (opcional).\n",
    "\n",
    "**Fin del episodio**:\n",
    "- Cuando el jugador se pasa de 21 o elige \"Stick\".\n"
   ]
  },
  {
   "cell_type": "markdown",
   "metadata": {
    "id": "pmcX6bRC9agQ"
   },
   "source": [
    "#### **1.1.2 Generando un Baseline (0.2 puntos)**\n",
    "\n",
    "Simule un escenario en donde se escojan acciones aleatorias. Repita esta simulación 5000 veces y reporte el promedio y desviación de las recompensas. ¿Cómo calificaría el performance de esta política? ¿Cómo podría interpretar las recompensas obtenidas?"
   ]
  },
  {
   "cell_type": "code",
   "execution_count": null,
   "metadata": {
    "id": "9p2PrLLR9yju"
   },
   "outputs": [],
   "source": [
    "# Simulación de 5000 episodios con acciones aleatorias\n",
    "num_episodes = 5000\n",
    "rewards = []\n",
    "\n",
    "for _ in range(num_episodes):\n",
    "    observation, _ = env.reset()\n",
    "    done = False\n",
    "    total_reward = 0\n",
    "\n",
    "    while not done:\n",
    "        # Tomar una acción aleatoria (0: Stick, 1: Hit)\n",
    "        action = env.action_space.sample()\n",
    "        observation, reward, done, _, _ = env.step(action)\n",
    "        total_reward += reward\n",
    "    \n",
    "    rewards.append(total_reward)\n",
    "\n",
    "# Calcular estadísticas\n",
    "mean_reward = np.mean(rewards)\n",
    "std_reward = np.std(rewards)"
   ]
  },
  {
   "cell_type": "markdown",
   "metadata": {},
   "source": [
    "El promedio negativo de recompensas **-0.40** sugiere que la política de tomar acciones aleatorias resulta en más derrotas que victorias. Esto implica que el jugador pierde más de lo que gana en promedio. La desviación estándar de **0.89** muestra una considerable variabilidad en los resultados, lo que indica que las recompensas fluctúan significativamente de un episodio a otro.\n",
    "\n",
    "**Conclusión**: El performance de esta política aleatoria es pobre, ya que genera pérdidas más frecuentemente. Para mejorar, se necesitaría una estrategia que considere la probabilidad de ganar y optimice las acciones en consecuencia."
   ]
  },
  {
   "cell_type": "markdown",
   "metadata": {
    "id": "LEO_dY4x_SJu"
   },
   "source": [
    "#### **1.1.3 Entrenamiento de modelo (0.2 puntos)**\n",
    "\n",
    "A partir del siguiente [enlace](https://stable-baselines3.readthedocs.io/en/master/guide/algos.html), escoja un modelo de `stable_baselines3` y entrenelo para resolver el ambiente `Blackjack`."
   ]
  },
  {
   "cell_type": "code",
   "execution_count": null,
   "metadata": {
    "id": "m9JsFA1wGmnH"
   },
   "outputs": [],
   "source": [
    "from stable_baselines3 import DQN\n",
    "# Crear el modelo DQN\n",
    "model = DQN(\"MlpPolicy\", env, verbose=1)\n",
    "\n",
    "# Entrenar el modelo durante 10000 pasos\n",
    "model.learn(total_timesteps=10000)\n",
    "\n",
    "# Guardar el modelo entrenado\n",
    "model.save(\"dqn_blackjack_model\")\n",
    "\n",
    "# Evaluar el rendimiento del modelo\n",
    "episodes = 1000\n",
    "rewards = []\n",
    "\n",
    "for _ in range(episodes):\n",
    "    observation, _ = env.reset()\n",
    "    done = False\n",
    "    total_reward = 0\n",
    "    \n",
    "    while not done:\n",
    "        action, _ = model.predict(observation, deterministic=True)\n",
    "        observation, reward, done, _, _ = env.step(action)\n",
    "        total_reward += reward\n",
    "        \n",
    "    rewards.append(total_reward)\n",
    "\n",
    "mean_reward = np.mean(rewards)\n",
    "print(f\"Recompensa promedio después del entrenamiento: {mean_reward:.2f}\")"
   ]
  },
  {
   "cell_type": "markdown",
   "metadata": {
    "id": "E-bpdb8wZID1"
   },
   "source": [
    "#### **1.1.4 Evaluación de modelo (0.2 puntos)**\n",
    "\n",
    "Repita el ejercicio 1.1.2 pero utilizando el modelo entrenado. ¿Cómo es el performance de su agente? ¿Es mejor o peor que el escenario baseline?"
   ]
  },
  {
   "cell_type": "code",
   "execution_count": null,
   "metadata": {
    "id": "5-d7d8GFf7F6"
   },
   "outputs": [],
   "source": [
    "model = DQN.load(\"dqn_blackjack_model\")\n",
    "\n",
    "# Evaluar el rendimiento del modelo entrenado\n",
    "episodes = 1000\n",
    "rewards_trained_model = []\n",
    "\n",
    "for _ in range(episodes):\n",
    "    observation, _ = env.reset()\n",
    "    done = False\n",
    "    total_reward = 0\n",
    "    \n",
    "    while not done:\n",
    "        # Predecir la acción con el modelo entrenado\n",
    "        action, _ = model.predict(observation, deterministic=True)\n",
    "        observation, reward, done, _, _ = env.step(action)\n",
    "        total_reward += reward\n",
    "        \n",
    "    rewards_trained_model.append(total_reward)\n",
    "\n",
    "# Calcular las estadísticas para el modelo entrenado\n",
    "mean_reward_trained = np.mean(rewards_trained_model)\n",
    "std_reward_trained = np.std(rewards_trained_model)"
   ]
  },
  {
   "cell_type": "markdown",
   "metadata": {},
   "source": [
    "El promedio negativo de recompensas **-0.06** sugiere que el modelo entrenado aún tiene un rendimiento ligeramente negativo, con un equilibrio entre victorias y derrotas. Esto implica que, aunque el agente ha aprendido a jugar, no genera ganancias consistentes en promedio. La desviación estándar de  **0.96** muestra una considerable variabilidad en los resultados, lo que indica que las recompensas fluctúan significativamente de un episodio a otro.\n",
    "\n",
    "**Conclusión**: El performance del modelo entrenado es mejor que el de la política aleatoria, pero aún no es ideal. Para mejorar, se podría optimizar el modelo, ajustar parámetros o explorar diferentes estrategias de aprendizaje para incrementar la tasa de victorias."
   ]
  },
  {
   "cell_type": "markdown",
   "metadata": {
    "id": "RO-EsAaPAYEm"
   },
   "source": [
    "#### **1.1.5 Estudio de acciones (0.2 puntos)**\n",
    "\n",
    "Genere una función que reciba un estado y retorne la accion del agente. Luego, use esta función para entregar la acción escogida frente a los siguientes escenarios:\n",
    "\n",
    "- Suma de cartas del agente es 6, dealer muestra un 7, agente no tiene tiene un as\n",
    "- Suma de cartas del agente es 19, dealer muestra un 3, agente tiene tiene un as\n",
    "\n",
    "¿Son coherentes sus acciones con las reglas del juego?\n",
    "\n",
    "Hint: ¿A que clase de python pertenecen los estados? Pruebe a usar el método `.reset` para saberlo."
   ]
  },
  {
   "cell_type": "code",
   "execution_count": null,
   "metadata": {},
   "outputs": [],
   "source": [
    "initial_state = env.reset()\n",
    "\n",
    "# Verificar el tipo del estado\n",
    "print(f\"Tipo de estado: {type(initial_state)}\")"
   ]
  },
  {
   "cell_type": "code",
   "execution_count": null,
   "metadata": {},
   "outputs": [],
   "source": [
    "initial_state"
   ]
  },
  {
   "cell_type": "code",
   "execution_count": null,
   "metadata": {
    "id": "Fh8XlGyzwtRp"
   },
   "outputs": [],
   "source": [
    "# Función para obtener la acción del agente dada una observación\n",
    "def get_agent_action(state):\n",
    "    action, _ = model.predict(state, deterministic=True)\n",
    "    return action\n",
    "\n",
    "# Escenario 1: Suma de cartas del agente es 6, dealer muestra un 7, agente no tiene un as\n",
    "# Estado: (6, 7, 0)\n",
    "state_1 = np.array([6, 7, 0])\n",
    "\n",
    "# Escenario 2: Suma de cartas del agente es 19, dealer muestra un 3, agente tiene un as\n",
    "# Estado: (19, 3, 1)\n",
    "state_2 = np.array([19, 3, 1])\n",
    "\n",
    "# Obtener las acciones para ambos estados\n",
    "action_1 = get_agent_action(state_1)\n",
    "action_2 = get_agent_action(state_2)\n",
    "\n",
    "# Mostrar las acciones\n",
    "print(f\"Acción para el escenario 1 (estado {state_1}): {'Hit' if action_1 == 1 else 'Stick'}\")\n",
    "print(f\"Acción para el escenario 2 (estado {state_2}): {'Hit' if action_2 == 1 else 'Stick'}\")"
   ]
  },
  {
   "cell_type": "markdown",
   "metadata": {},
   "source": [
    "Escenario 1: La suma de cartas del agente es 6, el dealer muestra un 7 y el agente no tiene un as.\n",
    "\n",
    "- Regla general: Cuando el agente tiene una suma baja, es probable que deba \"hit\" (pedir más cartas) hasta llegar a una suma más cercana a 21.\n",
    "- Esperado: El modelo debería elegir hit.\n",
    "\n",
    "Escenario 2: La suma de cartas del agente es 19, el dealer muestra un 3, y el agente tiene un as.\n",
    "\n",
    "- Regla general: Con una suma alta (como 19), el agente debería plantarse (stick). Tener un as como \"usable ace\" podría hacer que el agente sea un poco más flexible, pero aún así, la estrategia general es plantarse.\n",
    "- Esperado: El modelo debería elegir stick."
   ]
  },
  {
   "cell_type": "markdown",
   "metadata": {
    "id": "SEqCTqqroh03"
   },
   "source": [
    "### **1.2 LunarLander**\n",
    "\n",
    "<p align=\"center\">\n",
    "  <img src=\"https://i.redd.it/097t6tk29zf51.jpg\"\n",
    "\" width=\"400\">\n",
    "</p>\n",
    "\n",
    "Similar a la sección 2.1, en esta sección usted se encargará de implementar una gente de RL que pueda resolver el ambiente `LunarLander`.\n",
    "\n",
    "Comencemos preparando el ambiente:\n"
   ]
  },
  {
   "cell_type": "code",
   "execution_count": null,
   "metadata": {
    "id": "nvQUyuZ_FtZ4"
   },
   "outputs": [],
   "source": [
    "import gymnasium as gym\n",
    "env = gym.make(\"LunarLander-v2\", render_mode = \"rgb_array\", continuous = True) # notar el parámetro continuous = True"
   ]
  },
  {
   "cell_type": "markdown",
   "metadata": {
    "id": "FBU4lGX3wpN6"
   },
   "source": [
    "Noten que se especifica el parámetro `continuous = True`. ¿Que implicancias tiene esto sobre el ambiente?\n",
    "\n",
    "Además, se le facilita la función `export_gif` para el ejercicio 2.2.4:"
   ]
  },
  {
   "cell_type": "code",
   "execution_count": null,
   "metadata": {
    "id": "bRiWpSo9yfr9"
   },
   "outputs": [],
   "source": [
    "import imageio\n",
    "import numpy as np\n",
    "\n",
    "def export_gif(model, n = 5):\n",
    "  '''\n",
    "  función que exporta a gif el comportamiento del agente en n episodios\n",
    "  '''\n",
    "  images = []\n",
    "  for episode in range(n):\n",
    "    obs = model.env.reset()\n",
    "    img = model.env.render()\n",
    "    done = False\n",
    "    while not done:\n",
    "      images.append(img)\n",
    "      action, _ = model.predict(obs)\n",
    "      obs, reward, done, info = model.env.step(action)\n",
    "      img = model.env.render(mode=\"rgb_array\")\n",
    "\n",
    "  imageio.mimsave(\"agent_performance.gif\", [np.array(img) for i, img in enumerate(images) if i%2 == 0], fps=29)"
   ]
  },
  {
   "cell_type": "markdown",
   "metadata": {
    "id": "sk5VJVppXh3N"
   },
   "source": [
    "#### **1.2.1 Descripción de MDP (0.2 puntos)**\n",
    "\n",
    "Entregue una breve descripción sobre el ambiente [LunarLander](https://gymnasium.farama.org/environments/box2d/lunar_lander/) y su formulación en MDP, distinguiendo de forma clara y concisa los estados, acciones y recompensas. ¿Como se distinguen las acciones de este ambiente en comparación a `Blackjack`?\n",
    "\n",
    "Nota: recuerde que se especificó el parámetro `continuous = True`"
   ]
  },
  {
   "cell_type": "markdown",
   "metadata": {
    "id": "Yb-u9LUE8O9a"
   },
   "source": [
    "`escriba su respuesta acá`\n",
    "\n",
    "### **Descripción de MDP en LunarLander-v2**\n",
    "\n",
    "El entorno **LunarLander-v2** simula un problema de optimización de la trayectoria de un cohete, donde el objetivo es aterrizar el módulo en la luna. La formulación en MDP es la siguiente:\n",
    "\n",
    "#### **Estado (S)**\n",
    "El estado es un vector de 8 dimensiones que incluye:\n",
    "- **x, y**: Coordenadas del módulo.\n",
    "- **vx, vy**: Velocidades en los ejes horizontal y vertical.\n",
    "- **ángulo**: Orientación del módulo.\n",
    "- **velocidad angular**: Rotación del módulo.\n",
    "- **contacto con piernas**: Booleanos que indican si las piernas están tocando el suelo.\n",
    "\n",
    "#### **Acciones (A)**\n",
    "Existen 4 acciones posibles:\n",
    "- **0**: No hacer nada.\n",
    "- **1**: Encender el motor izquierdo (orientación).\n",
    "- **2**: Encender el motor principal (vertical).\n",
    "- **3**: Encender el motor derecho (orientación).\n",
    "\n",
    "#### **Recompensas (R)**\n",
    "La recompensa depende de la posición, velocidad, y orientación del módulo:\n",
    "- Posicionarse cerca de la plataforma y reducir la velocidad es premiado.\n",
    "- Se penaliza la inclinación del módulo.\n",
    "- **+10 puntos por pierna** si toca el suelo.\n",
    "- Penalizaciones por el uso de motores: **-0.03** por cada cuadro con motores laterales encendidos, **-0.3** por el motor principal.\n",
    "- **+100 puntos** por aterrizaje seguro, **-100 puntos** por estrellarse.\n",
    "\n",
    "#### **Comparación con Blackjack**\n",
    "A diferencia de **Blackjack**, las acciones en **LunarLander** son físicas, controlando motores para afectar la posición, velocidad y orientación en un entorno 2D. En **Blackjack**, las decisiones son más simples y se basan en probabilidades de cartas. Además, en LunarLander las acciones se manejan de forma discreta pero más compleja.\n"
   ]
  },
  {
   "cell_type": "markdown",
   "metadata": {
    "id": "YChodtNQwzG2"
   },
   "source": [
    "#### **1.2.2 Generando un Baseline (0.2 puntos)**\n",
    "\n",
    "Simule un escenario en donde se escojan acciones aleatorias. Repita esta simulación 10 veces y reporte el promedio y desviación de las recompensas. ¿Cómo calificaría el performance de esta política?"
   ]
  },
  {
   "cell_type": "code",
   "execution_count": null,
   "metadata": {
    "id": "5bwc3A0GX7a8"
   },
   "outputs": [],
   "source": [
    "# Función para ejecutar una política aleatoria y obtener las recompensas\n",
    "def simulate_random_policy(env, episodes=10):\n",
    "    rewards = []\n",
    "    for _ in range(episodes):\n",
    "        obs, _ = env.reset()\n",
    "        done = False\n",
    "        total_reward = 0\n",
    "        while not done:\n",
    "            action = env.action_space.sample()  # Acción aleatoria\n",
    "            obs, reward, done, _, _ = env.step(action)\n",
    "            total_reward += reward\n",
    "        rewards.append(total_reward)\n",
    "    return rewards\n",
    "\n",
    "# Simulación y cálculo de estadísticas\n",
    "rewards = simulate_random_policy(env, episodes=10)\n",
    "mean_reward = np.mean(rewards)\n",
    "std_reward = np.std(rewards)"
   ]
  },
  {
   "cell_type": "markdown",
   "metadata": {},
   "source": [
    "El promedio negativo de recompensas **-237.81** sugiere que la política aleatoria tiene un rendimiento deficiente, con una tendencia a las pérdidas. Esto implica que, al no optimizar las acciones, el agente pierde más de lo que gana en promedio. La desviación estándar de **108.99** muestra una considerable variabilidad en los resultados, lo que indica que las recompensas fluctúan significativamente de un episodio a otro.\n",
    "\n",
    "**Conclusión**: El performance de esta política aleatoria es pobre y no permite ganar consistentemente. Se necesita una estrategia más optimizada para mejorar el rendimiento en este entorno."
   ]
  },
  {
   "cell_type": "markdown",
   "metadata": {
    "id": "hQrZVQflX_5f"
   },
   "source": [
    "#### **1.2.3 Entrenamiento de modelo (0.2 puntos)**\n",
    "\n",
    "A partir del siguiente [enlace](https://stable-baselines3.readthedocs.io/en/master/guide/algos.html), escoja un modelo de `stable_baselines3` y entrenelo para resolver el ambiente `LunarLander` **usando 10000 timesteps de entrenamiento**."
   ]
  },
  {
   "cell_type": "code",
   "execution_count": null,
   "metadata": {
    "id": "y_6Ia9uoF7Hs"
   },
   "outputs": [],
   "source": [
    "from stable_baselines3 import PPO\n",
    "# Definir y entrenar el modelo con PPO\n",
    "model = PPO(\"MlpPolicy\", env, verbose=1)\n",
    "model.learn(total_timesteps=10000)\n",
    "\n",
    "# Guardar el modelo entrenado\n",
    "model.save(\"ppo_lunarlander_10000_steps\")\n",
    "\n",
    "# Evaluar el modelo entrenado\n",
    "obs, _ = env.reset()\n",
    "done = False\n",
    "total_rewards = 0\n",
    "\n",
    "# Realizar una evaluación para ver cómo se desempeña el modelo\n",
    "while not done:\n",
    "    action, _ = model.predict(obs)\n",
    "    obs, reward, done, _, _ = env.step(action)\n",
    "    total_rewards += reward\n",
    "\n",
    "print(f\"Recompensa total al final del episodio: {total_rewards}\")"
   ]
  },
  {
   "cell_type": "markdown",
   "metadata": {
    "id": "3z-oIUSrlAsY"
   },
   "source": [
    "#### **1.2.4 Evaluación de modelo (0.2 puntos)**\n",
    "\n",
    "Repita el ejercicio 1.2.2 pero utilizando el modelo entrenado. ¿Cómo es el performance de su agente? ¿Es mejor o peor que el escenario baseline?"
   ]
  },
  {
   "cell_type": "code",
   "execution_count": null,
   "metadata": {
    "id": "ophyU3KrWrwl"
   },
   "outputs": [],
   "source": [
    "# Cargar el modelo entrenado\n",
    "model = PPO.load(\"ppo_lunarlander_10000_steps\",env)\n",
    "\n",
    "# Número de episodios para evaluar\n",
    "num_episodes = 10\n",
    "rewards = []\n",
    "\n",
    "# Evaluación del modelo en varios episodios\n",
    "for _ in range(num_episodes):\n",
    "    obs, info = env.reset()\n",
    "    done = False\n",
    "    total_reward = 0\n",
    "    \n",
    "    while not done:\n",
    "        action, _ = model.predict(obs)\n",
    "        obs, reward, done, truncated, info = env.step(action)\n",
    "        total_reward += reward\n",
    "    \n",
    "    rewards.append(total_reward)\n",
    "\n",
    "# Calcular el promedio y desviación estándar de las recompensas\n",
    "mean_reward_trained = np.mean(rewards)\n",
    "std_reward_trained = np.std(rewards)"
   ]
  },
  {
   "cell_type": "markdown",
   "metadata": {},
   "source": [
    "El promedio de recompensas del modelo entrenado es **-189.59**, lo que sugiere que el modelo tiene un rendimiento moderado, aunque no es perfecto. Esto indica que el agente ha aprendido a optimizar sus acciones, pero aún podría mejorar en algunos aspectos. La desviación estándar de **165.69** muestra que las recompensas fluctúan entre episodios, lo que sugiere cierta variabilidad en el desempeño del agente.\n",
    "\n",
    "**Comparación con la política baseline**: Comparando este rendimiento con la política baseline (acción aleatoria), podemos concluir que el modelo entrenado tiene un rendimiento mucho mejor, ya que la política aleatoria generaba un promedio de **-206.93** recompensas, mientras que el modelo entrenado está significativamente por encima de ese valor.\n",
    "\n",
    "**Conclusión**: El rendimiento del agente entrenado es superior al de la política baseline, pero aún existen oportunidades para mejorar. El agente ha aprendido a jugar, pero su desempeño podría optimizarse con más entrenamiento o ajustes en los hiperparámetros del modelo."
   ]
  },
  {
   "cell_type": "markdown",
   "metadata": {
    "id": "x6Xw4YHT3P5d"
   },
   "source": [
    "#### **1.2.5 Optimización de modelo (0.2 puntos)**\n",
    "\n",
    "Repita los ejercicios 1.2.3 y 1.2.4 hasta obtener un nivel de recompensas promedio mayor a 50. Para esto, puede cambiar manualmente parámetros como:\n",
    "- `total_timesteps`\n",
    "- `learning_rate`\n",
    "- `batch_size`\n",
    "\n",
    "Una vez optimizado el modelo, use la función `export_gif` para estudiar el comportamiento de su agente en la resolución del ambiente y comente sobre sus resultados.\n",
    "\n",
    "Adjunte el gif generado en su entrega (mejor aún si además adjuntan el gif en el markdown)."
   ]
  },
  {
   "cell_type": "code",
   "execution_count": null,
   "metadata": {},
   "outputs": [],
   "source": [
    "# Definir parámetros para la optimización\n",
    "total_timesteps = 80000\n",
    "learning_rate = 0.0003  # Ajuste del learning rate\n",
    "batch_size = 64  # Aumento del tamaño del batch\n",
    "\n",
    "# Definir y entrenar el modelo con PPO\n",
    "model = PPO(\"MlpPolicy\", env, learning_rate=learning_rate, batch_size=batch_size, verbose=1)\n",
    "model.learn(total_timesteps=total_timesteps)\n",
    "\n",
    "# Guardar el modelo entrenado\n",
    "model.save(\"ppo_lunarlander_opt\")\n",
    "\n",
    "# Evaluar el modelo entrenado\n",
    "obs, _ = env.reset()\n",
    "done = False\n",
    "total_rewards = 0\n",
    "\n",
    "# Realizar una evaluación\n",
    "while not done:\n",
    "    action, _ = model.predict(obs)\n",
    "    obs, reward, done, truncated, _ = env.step(action)\n",
    "    total_rewards += reward\n",
    "    \n",
    "    # Si el episodio termina o es truncado, detener\n",
    "    if done or truncated:\n",
    "        break\n",
    "\n",
    "print(f\"Recompensa total al final del episodio: {total_rewards}\")\n"
   ]
  },
  {
   "cell_type": "code",
   "execution_count": null,
   "metadata": {
    "id": "aItYF6sr6F_6"
   },
   "outputs": [],
   "source": [
    "# Cargar el modelo entrenado\n",
    "model = PPO.load(\"ppo_lunarlander_opt\",env)\n",
    "\n",
    "# Número de episodios para evaluar\n",
    "num_episodes = 5\n",
    "rewards = []\n",
    "\n",
    "for _ in range(num_episodes):\n",
    "    obs, info = env.reset()\n",
    "    done = False\n",
    "    total_reward = 0\n",
    "    \n",
    "    while not done:\n",
    "        action, _ = model.predict(obs)\n",
    "        obs, reward, done, truncated, info = env.step(action)\n",
    "        total_reward += reward\n",
    "        \n",
    "        # Si el episodio termina o es truncado, detener\n",
    "        if done or truncated:\n",
    "            break\n",
    "\n",
    "    rewards.append(total_reward)\n",
    "\n",
    "# Calcular el promedio y desviación estándar de las recompensas\n",
    "mean_reward_trained = np.mean(rewards)\n",
    "std_reward_trained = np.std(rewards)\n",
    "\n",
    "print(f\"Promedio de recompensas: {mean_reward_trained:.2f}\")\n",
    "print(f\"Desviación estándar de recompensas: {std_reward_trained:.2f}\")"
   ]
  },
  {
   "cell_type": "code",
   "execution_count": null,
   "metadata": {},
   "outputs": [],
   "source": [
    "# Crear un GIF del comportamiento del agente optimizado\n",
    "export_gif(model)"
   ]
  },
  {
   "cell_type": "markdown",
   "metadata": {},
   "source": [
    "El promedio de recompensas del modelo optimizado es **67.74**, lo que sugiere que el agente ha mejorado significativamente su desempeño, alcanzando un rendimiento superior a 50 recompensas en promedio. Esto indica que el agente ha aprendido a optimizar sus acciones de manera efectiva. La desviación estándar de **49.35** muestra que las recompensas son más consistentes que antes, lo que refleja una mejora en la estabilidad del agente.\n",
    "\n",
    "**Comparación con el modelo anterior**: En comparación con el modelo entrenado previamente, el modelo optimizado ha mostrado una mejora clara en el rendimiento, ya que las recompensas promedio eran inferiores a 50 en el modelo anterior.\n",
    "\n",
    "**Conclusión**: El rendimiento del modelo optimizado es mucho mejor. Los ajustes en los parámetros han permitido al agente aprender de manera más efectiva y mejorar su desempeño en el entorno de LunarLander.\n",
    "\n",
    "![Agente optimizado](agent_performance.gif)"
   ]
  },
  {
   "cell_type": "markdown",
   "metadata": {
    "id": "mPUY-Ktgf2BO"
   },
   "source": [
    "## **2. Large Language Models (4.0 puntos)**\n",
    "\n",
    "En esta sección se enfocarán en habilitar un Chatbot que nos permita responder preguntas útiles a través de LLMs."
   ]
  },
  {
   "cell_type": "markdown",
   "metadata": {
    "id": "mQ4fPRRihGLe"
   },
   "source": [
    "### **2.0 Configuración Inicial**\n",
    "\n",
    "<p align=\"center\">\n",
    "  <img src=\"https://media1.tenor.com/m/uqAs9atZH58AAAAd/config-config-issue.gif\"\n",
    "\" width=\"400\">\n",
    "</p>\n",
    "\n",
    "Como siempre, cargamos todas nuestras API KEY al entorno:"
   ]
  },
  {
   "cell_type": "code",
   "execution_count": 40,
   "metadata": {
    "id": "Ud2Xm_k-hFJn"
   },
   "outputs": [],
   "source": [
    "import getpass\n",
    "import os\n",
    "\n",
    "if \"GOOGLE_API_KEY\" not in os.environ:\n",
    "    os.environ[\"GOOGLE_API_KEY\"] = getpass.getpass(\"Enter your Google AI API key: \")\n",
    "\n",
    "if \"TAVILY_API_KEY\" not in os.environ:\n",
    "    os.environ[\"TAVILY_API_KEY\"] = getpass.getpass(\"Enter your Tavily API key: \")"
   ]
  },
  {
   "cell_type": "code",
   "execution_count": 41,
   "metadata": {},
   "outputs": [
    {
     "data": {
      "text/plain": [
       "False"
      ]
     },
     "execution_count": 41,
     "metadata": {},
     "output_type": "execute_result"
    }
   ],
   "source": [
    "from dotenv import load_dotenv\n",
    "\n",
    "load_dotenv() # cargar las variables guardadas en el archivo .env"
   ]
  },
  {
   "cell_type": "markdown",
   "metadata": {
    "id": "Rj9JvQUsgZZJ"
   },
   "source": [
    "### **2.1 Retrieval Augmented Generation (1.5 puntos)**\n",
    "\n",
    "<p align=\"center\">\n",
    "  <img src=\"https://y.yarn.co/218aaa02-c47e-4ec9-b1c9-07792a06a88f_text.gif\"\n",
    "\" width=\"400\">\n",
    "</p>\n",
    "\n",
    "El objetivo de esta subsección es que habiliten un chatbot que pueda responder preguntas usando información contenida en documentos PDF a través de **Retrieval Augmented Generation.**"
   ]
  },
  {
   "cell_type": "markdown",
   "metadata": {
    "id": "ZrxOQroVnaZ5"
   },
   "source": [
    "#### **2.1.1 Reunir Documentos (0 puntos)**\n",
    "\n",
    "Reuna documentos PDF sobre los que hacer preguntas siguiendo las siguientes instrucciones:\n",
    "  - 2 documentos .pdf como mínimo.\n",
    "  - 50 páginas de contenido como mínimo entre todos los documentos.\n",
    "  - Ideas para documentos: Documentos relacionados a temas académicos, laborales o de ocio. Aprovechen este ejercicio para construir algo útil y/o relevante para ustedes!\n",
    "  - Deben ocupar documentos reales, no pueden utilizar los mismos de la clase.\n",
    "  - Deben registrar sus documentos en la siguiente [planilla](https://docs.google.com/spreadsheets/d/1Hy1w_dOiG2UCHJ8muyxhdKPZEPrrL7BNHm6E90imIIM/edit?usp=sharing). **NO PUEDEN USAR LOS MISMOS DOCUMENTOS QUE OTRO GRUPO**\n",
    "  - **Recuerden adjuntar los documentos en su entrega**."
   ]
  },
  {
   "cell_type": "code",
   "execution_count": 42,
   "metadata": {},
   "outputs": [
    {
     "ename": "FileNotFoundError",
     "evalue": "[Errno 2] No such file or directory: 'MODERN TIME SERIES FORECASTING - Manu. Joseph_43718.pdf'",
     "output_type": "error",
     "traceback": [
      "\u001b[1;31m---------------------------------------------------------------------------\u001b[0m",
      "\u001b[1;31mFileNotFoundError\u001b[0m                         Traceback (most recent call last)",
      "Cell \u001b[1;32mIn[42], line 10\u001b[0m\n\u001b[0;32m      7\u001b[0m \u001b[38;5;28;01massert\u001b[39;00m \u001b[38;5;28mlen\u001b[39m(doc_paths) \u001b[38;5;241m>\u001b[39m\u001b[38;5;241m=\u001b[39m \u001b[38;5;241m2\u001b[39m, \u001b[38;5;124m\"\u001b[39m\u001b[38;5;124mDeben adjuntar un mínimo de 2 documentos\u001b[39m\u001b[38;5;124m\"\u001b[39m\n\u001b[0;32m      9\u001b[0m \u001b[38;5;66;03m# Calcular el total de páginas\u001b[39;00m\n\u001b[1;32m---> 10\u001b[0m total_paginas \u001b[38;5;241m=\u001b[39m \u001b[38;5;28;43msum\u001b[39;49m\u001b[43m(\u001b[49m\u001b[38;5;28;43mlen\u001b[39;49m\u001b[43m(\u001b[49m\u001b[43mPyPDF2\u001b[49m\u001b[38;5;241;43m.\u001b[39;49m\u001b[43mPdfReader\u001b[49m\u001b[43m(\u001b[49m\u001b[38;5;28;43mopen\u001b[39;49m\u001b[43m(\u001b[49m\u001b[43mdoc\u001b[49m\u001b[43m,\u001b[49m\u001b[43m \u001b[49m\u001b[38;5;124;43m\"\u001b[39;49m\u001b[38;5;124;43mrb\u001b[39;49m\u001b[38;5;124;43m\"\u001b[39;49m\u001b[43m)\u001b[49m\u001b[43m)\u001b[49m\u001b[38;5;241;43m.\u001b[39;49m\u001b[43mpages\u001b[49m\u001b[43m)\u001b[49m\u001b[43m \u001b[49m\u001b[38;5;28;43;01mfor\u001b[39;49;00m\u001b[43m \u001b[49m\u001b[43mdoc\u001b[49m\u001b[43m \u001b[49m\u001b[38;5;129;43;01min\u001b[39;49;00m\u001b[43m \u001b[49m\u001b[43mdoc_paths\u001b[49m\u001b[43m)\u001b[49m\n\u001b[0;32m     11\u001b[0m \u001b[38;5;28;01massert\u001b[39;00m total_paginas \u001b[38;5;241m>\u001b[39m\u001b[38;5;241m=\u001b[39m \u001b[38;5;241m50\u001b[39m, \u001b[38;5;124mf\u001b[39m\u001b[38;5;124m\"\u001b[39m\u001b[38;5;124mPáginas insuficientes: \u001b[39m\u001b[38;5;132;01m{\u001b[39;00mtotal_paginas\u001b[38;5;132;01m}\u001b[39;00m\u001b[38;5;124m\"\u001b[39m\n\u001b[0;32m     12\u001b[0m \u001b[38;5;28mprint\u001b[39m(\u001b[38;5;124mf\u001b[39m\u001b[38;5;124m\"\u001b[39m\u001b[38;5;124mTotal de páginas: \u001b[39m\u001b[38;5;132;01m{\u001b[39;00mtotal_paginas\u001b[38;5;132;01m}\u001b[39;00m\u001b[38;5;124m\"\u001b[39m)\n",
      "Cell \u001b[1;32mIn[42], line 10\u001b[0m, in \u001b[0;36m<genexpr>\u001b[1;34m(.0)\u001b[0m\n\u001b[0;32m      7\u001b[0m \u001b[38;5;28;01massert\u001b[39;00m \u001b[38;5;28mlen\u001b[39m(doc_paths) \u001b[38;5;241m>\u001b[39m\u001b[38;5;241m=\u001b[39m \u001b[38;5;241m2\u001b[39m, \u001b[38;5;124m\"\u001b[39m\u001b[38;5;124mDeben adjuntar un mínimo de 2 documentos\u001b[39m\u001b[38;5;124m\"\u001b[39m\n\u001b[0;32m      9\u001b[0m \u001b[38;5;66;03m# Calcular el total de páginas\u001b[39;00m\n\u001b[1;32m---> 10\u001b[0m total_paginas \u001b[38;5;241m=\u001b[39m \u001b[38;5;28msum\u001b[39m(\u001b[38;5;28mlen\u001b[39m(PyPDF2\u001b[38;5;241m.\u001b[39mPdfReader(\u001b[38;5;28;43mopen\u001b[39;49m\u001b[43m(\u001b[49m\u001b[43mdoc\u001b[49m\u001b[43m,\u001b[49m\u001b[43m \u001b[49m\u001b[38;5;124;43m\"\u001b[39;49m\u001b[38;5;124;43mrb\u001b[39;49m\u001b[38;5;124;43m\"\u001b[39;49m\u001b[43m)\u001b[49m)\u001b[38;5;241m.\u001b[39mpages) \u001b[38;5;28;01mfor\u001b[39;00m doc \u001b[38;5;129;01min\u001b[39;00m doc_paths)\n\u001b[0;32m     11\u001b[0m \u001b[38;5;28;01massert\u001b[39;00m total_paginas \u001b[38;5;241m>\u001b[39m\u001b[38;5;241m=\u001b[39m \u001b[38;5;241m50\u001b[39m, \u001b[38;5;124mf\u001b[39m\u001b[38;5;124m\"\u001b[39m\u001b[38;5;124mPáginas insuficientes: \u001b[39m\u001b[38;5;132;01m{\u001b[39;00mtotal_paginas\u001b[38;5;132;01m}\u001b[39;00m\u001b[38;5;124m\"\u001b[39m\n\u001b[0;32m     12\u001b[0m \u001b[38;5;28mprint\u001b[39m(\u001b[38;5;124mf\u001b[39m\u001b[38;5;124m\"\u001b[39m\u001b[38;5;124mTotal de páginas: \u001b[39m\u001b[38;5;132;01m{\u001b[39;00mtotal_paginas\u001b[38;5;132;01m}\u001b[39;00m\u001b[38;5;124m\"\u001b[39m)\n",
      "File \u001b[1;32mc:\\Users\\joaqu\\AppData\\Local\\Programs\\Python\\Python311\\Lib\\site-packages\\IPython\\core\\interactiveshell.py:324\u001b[0m, in \u001b[0;36m_modified_open\u001b[1;34m(file, *args, **kwargs)\u001b[0m\n\u001b[0;32m    317\u001b[0m \u001b[38;5;28;01mif\u001b[39;00m file \u001b[38;5;129;01min\u001b[39;00m {\u001b[38;5;241m0\u001b[39m, \u001b[38;5;241m1\u001b[39m, \u001b[38;5;241m2\u001b[39m}:\n\u001b[0;32m    318\u001b[0m     \u001b[38;5;28;01mraise\u001b[39;00m \u001b[38;5;167;01mValueError\u001b[39;00m(\n\u001b[0;32m    319\u001b[0m         \u001b[38;5;124mf\u001b[39m\u001b[38;5;124m\"\u001b[39m\u001b[38;5;124mIPython won\u001b[39m\u001b[38;5;124m'\u001b[39m\u001b[38;5;124mt let you open fd=\u001b[39m\u001b[38;5;132;01m{\u001b[39;00mfile\u001b[38;5;132;01m}\u001b[39;00m\u001b[38;5;124m by default \u001b[39m\u001b[38;5;124m\"\u001b[39m\n\u001b[0;32m    320\u001b[0m         \u001b[38;5;124m\"\u001b[39m\u001b[38;5;124mas it is likely to crash IPython. If you know what you are doing, \u001b[39m\u001b[38;5;124m\"\u001b[39m\n\u001b[0;32m    321\u001b[0m         \u001b[38;5;124m\"\u001b[39m\u001b[38;5;124myou can use builtins\u001b[39m\u001b[38;5;124m'\u001b[39m\u001b[38;5;124m open.\u001b[39m\u001b[38;5;124m\"\u001b[39m\n\u001b[0;32m    322\u001b[0m     )\n\u001b[1;32m--> 324\u001b[0m \u001b[38;5;28;01mreturn\u001b[39;00m \u001b[43mio_open\u001b[49m\u001b[43m(\u001b[49m\u001b[43mfile\u001b[49m\u001b[43m,\u001b[49m\u001b[43m \u001b[49m\u001b[38;5;241;43m*\u001b[39;49m\u001b[43margs\u001b[49m\u001b[43m,\u001b[49m\u001b[43m \u001b[49m\u001b[38;5;241;43m*\u001b[39;49m\u001b[38;5;241;43m*\u001b[39;49m\u001b[43mkwargs\u001b[49m\u001b[43m)\u001b[49m\n",
      "\u001b[1;31mFileNotFoundError\u001b[0m: [Errno 2] No such file or directory: 'MODERN TIME SERIES FORECASTING - Manu. Joseph_43718.pdf'"
     ]
    }
   ],
   "source": [
    "# Lista de rutas a los documentos PDF\n",
    "doc_paths = [\"c_1925.pdf\",\"MODERN TIME SERIES FORECASTING - Manu. Joseph_43718.pdf\"]\n",
    "\n",
    "# Validar número de documentos y páginas\n",
    "import PyPDF2\n",
    "\n",
    "assert len(doc_paths) >= 2, \"Deben adjuntar un mínimo de 2 documentos\"\n",
    "\n",
    "# Calcular el total de páginas\n",
    "total_paginas = sum(len(PyPDF2.PdfReader(open(doc, \"rb\")).pages) for doc in doc_paths)\n",
    "assert total_paginas >= 50, f\"Páginas insuficientes: {total_paginas}\"\n",
    "print(f\"Total de páginas: {total_paginas}\")"
   ]
  },
  {
   "cell_type": "markdown",
   "metadata": {
    "id": "r811-P71nizA"
   },
   "source": [
    "#### **2.1.2 Vectorizar Documentos (0.2 puntos)**\n",
    "\n",
    "Vectorice los documentos y almacene sus representaciones de manera acorde."
   ]
  },
  {
   "cell_type": "code",
   "execution_count": 3,
   "metadata": {
    "id": "n-yXAdCSn4JM"
   },
   "outputs": [],
   "source": [
    "# Importar librerías necesarias\n",
    "from langchain_community.document_loaders import PyPDFLoader\n",
    "from langchain_text_splitters import RecursiveCharacterTextSplitter\n",
    "from langchain_google_genai import GoogleGenerativeAIEmbeddings\n",
    "from langchain_community.vectorstores import FAISS\n",
    "import os\n",
    "import pickle\n",
    "\n",
    "file_path = doc_paths[0] # path al documento\n",
    "loader = PyPDFLoader(file_path) # inicializar loader de PDF\n",
    "\n",
    "docs1 = loader.load() # cargar documento\n",
    "docs1\n",
    "file_path = doc_paths[1] # path al documento\n",
    "loader = PyPDFLoader(file_path) # inicializar loader de PDF\n",
    "\n",
    "docs2 = loader.load() # cargar documento\n",
    "docs2\n",
    "\n",
    "# Dividir el texto en chunks\n",
    "text_splitter = RecursiveCharacterTextSplitter(chunk_size=500, chunk_overlap=50) # inicializamos splitter\n",
    "splits1 = text_splitter.split_documents(docs1) # dividir documentos en chunks\n",
    "text_splitter = RecursiveCharacterTextSplitter(chunk_size=500, chunk_overlap=50) # inicializamos splitter\n",
    "splits2 = text_splitter.split_documents(docs2) # dividir documentos en chunks\n",
    "\n",
    "# Inicializar el modelo de embeddings\n",
    "google_api_key = os.getenv(\"GOOGLE_API_KEY\")\n",
    "embedding = GoogleGenerativeAIEmbeddings(model=\"models/embedding-001\") # inicializamos los embeddings\n",
    "vectorstore1 = FAISS.from_documents(documents=splits1, embedding=embedding) # vectorizacion y almacenamiento\n",
    "vectorstore2 = FAISS.from_documents(documents=splits2, embedding=embedding) # vectorizacion y almacenamiento"
   ]
  },
  {
   "cell_type": "code",
   "execution_count": 6,
   "metadata": {},
   "outputs": [],
   "source": [
    "retriever1 = vectorstore1.as_retriever(search_type=\"similarity\", # método de búsqueda\n",
    "                                     search_kwargs={\"k\": 3}, # n° documentos a recuperar\n",
    "                                     )\n",
    "retriever2 = vectorstore2.as_retriever(search_type=\"similarity\", # método de búsqueda\n",
    "                                     search_kwargs={\"k\": 3}, # n° documentos a recuperar\n",
    "                                     )"
   ]
  },
  {
   "cell_type": "code",
   "execution_count": 7,
   "metadata": {},
   "outputs": [
    {
     "data": {
      "text/plain": [
       "[Document(metadata={'source': 'c_1925.pdf', 'page': 0}, page_content='de agosto último, ha acordado reformar la Constitución\\nPolítica promulgada el 25 de mayo de 1833 y sus\\nmodificaciones posteriores e\\nINVOCANDO EL NOMBRE DE DIOS TODOPODEROSO,\\nordeno que se promulgue la siguiente, como la\\n     CONSTITUCION POLITICA DE LA REPUBLICA DE CHILE\\n     CAPITULO  I\\n     Estado, Gobierno y Soberanía\\n     Art.1.- El Estado de Chile es unitario. Su Gobierno es\\nrepublicano y democrático representativo.\\n     Art. 2.- La soberanía reside esencialmente en la'),\n",
       " Document(metadata={'source': 'c_1925.pdf', 'page': 2}, page_content='interés nacional y una lei lo declare así.\\n     Es deber del Estado velar por la salud pública y el\\nbienestar hijiénico del país. Deberá destinarse cada año una\\ncantidad de dinero suficiente para mantener un servicio\\nnacional de salubridad, y\\n    15.° La libertad de permanecer en cualquier punto de la\\nRepública, trasladarse de uno a otro o salir de su\\nterritorio, a condicion de que se guarden los reglamentos de\\npolicía y  las reuniones se rejirán por las disposiciones\\njenerales de policía;'),\n",
       " Document(metadata={'source': 'c_1925.pdf', 'page': 23}, page_content='República, se verificarán el 24 de Octubre de 1925, para dar\\ncumplimiento a lo dispuesto en el artículo 63 y a fin de que\\nel Presidente electo tome posesion del mando el 23 de\\ndiciembre del mismo año.\\n     Tercera:\\n     La proclamacion del nuevo Presidente de la República, o\\nsu eleccion, en caso de que ningun ciudadano obtenga en las\\nurnas la mayoría necesaria, será hecha por los Diputados y\\nSenadores elejidos en conformidad a la disposicion')]"
      ]
     },
     "execution_count": 7,
     "metadata": {},
     "output_type": "execute_result"
    }
   ],
   "source": [
    "question = \"¿Cuáles son los principios fundamentales que establece la Constitución de 1925 en cuanto a la organización del Estado y la soberanía?\" # pregunta\n",
    "relevant_documents1 = retriever1.invoke(question) # top k documentos relevantes a la pregunta\n",
    "relevant_documents1"
   ]
  },
  {
   "cell_type": "code",
   "execution_count": 8,
   "metadata": {},
   "outputs": [
    {
     "data": {
      "text/plain": [
       "[Document(metadata={'source': 'MODERN TIME SERIES FORECASTING - Manu. Joseph_43718.pdf', 'page': 518}, page_content='Evaluating Forecasts – Validation Strategies492\\nModel validation\\nIn Chapter 18, Evaluating Forecasts – Forecast Metrics, we learned about different forecast metrics that \\ncan be used to measure the quality of a forecast. One of the main uses for this is to measure how well \\nour forecast is doing on test data (new and unseen data), but this comes after we train a model, tweak \\nit, and tinker with it until we are happy with it. How do we know whether a model we are training or'),\n",
       " Document(metadata={'source': 'MODERN TIME SERIES FORECASTING - Manu. Joseph_43718.pdf', 'page': 514}, page_content='Evaluating Forecasts – Forecast Metrics488\\n• Percent error and symmetric error are not symmetric in the complete sense and favor under-\\nforecasting and over-forecasting, respectively. MAPE, which is a very popular metric, is plagued \\nby this shortcoming. For instance, if we are forecasting demand, optimizing for MAPE will lead \\nyou to select a forecast that is conservative and therefore under-forecast. This will lead to an'),\n",
       " Document(metadata={'source': 'MODERN TIME SERIES FORECASTING - Manu. Joseph_43718.pdf', 'page': 508}, page_content='Evaluating Forecasts – Forecast Metrics482\\nExtrinsic errors\\nWith all the intrinsic measures done, we can also take  a look at the extrinsic ones. With extrinsic \\nmeasures, plotting the loss curves and checking symmetry is not as easy. Instead of two variables, \\nwe now have three – the actual observation, the forecast, and the reference forecast; the value of the \\nmeasure can vary with any of these. We can use a contour plot for this as shown in Figure 18.6:')]"
      ]
     },
     "execution_count": 8,
     "metadata": {},
     "output_type": "execute_result"
    }
   ],
   "source": [
    "question = \"Cuáles métricas se proponen para evaluar los modelos?\" # pregunta\n",
    "relevant_documents2 = retriever2.invoke(question) # top k documentos relevantes a la pregunta\n",
    "relevant_documents2"
   ]
  },
  {
   "cell_type": "markdown",
   "metadata": {
    "id": "hAUkP5zrnyBK"
   },
   "source": [
    "#### **2.1.3 Habilitar RAG (0.3 puntos)**\n",
    "\n",
    "Habilite la solución RAG a través de una *chain* y guárdela en una variable."
   ]
  },
  {
   "cell_type": "code",
   "execution_count": 9,
   "metadata": {},
   "outputs": [
    {
     "name": "stdout",
     "output_type": "stream",
     "text": [
      "de agosto último, ha acordado reformar la Constitución\n",
      "Política promulgada el 25 de mayo de 1833 y sus\n",
      "modificaciones posteriores e\n",
      "INVOCANDO EL NOMBRE DE DIOS TODOPODEROSO,\n",
      "ordeno que se promulgue la siguiente, como la\n",
      "     CONSTITUCION POLITICA DE LA REPUBLICA DE CHILE\n",
      "     CAPITULO  I\n",
      "     Estado, Gobierno y Soberanía\n",
      "     Art.1.- El Estado de Chile es unitario. Su Gobierno es\n",
      "republicano y democrático representativo.\n",
      "     Art. 2.- La soberanía reside esencialmente en la\n",
      "\n",
      "interés nacional y una lei lo declare así.\n",
      "     Es deber del Estado velar por la salud pública y el\n",
      "bienestar hijiénico del país. Deberá destinarse cada año una\n",
      "cantidad de dinero suficiente para mantener un servicio\n",
      "nacional de salubridad, y\n",
      "    15.° La libertad de permanecer en cualquier punto de la\n",
      "República, trasladarse de uno a otro o salir de su\n",
      "territorio, a condicion de que se guarden los reglamentos de\n",
      "policía y  las reuniones se rejirán por las disposiciones\n",
      "jenerales de policía;\n",
      "\n",
      "República, se verificarán el 24 de Octubre de 1925, para dar\n",
      "cumplimiento a lo dispuesto en el artículo 63 y a fin de que\n",
      "el Presidente electo tome posesion del mando el 23 de\n",
      "diciembre del mismo año.\n",
      "     Tercera:\n",
      "     La proclamacion del nuevo Presidente de la República, o\n",
      "su eleccion, en caso de que ningun ciudadano obtenga en las\n",
      "urnas la mayoría necesaria, será hecha por los Diputados y\n",
      "Senadores elejidos en conformidad a la disposicion\n"
     ]
    }
   ],
   "source": [
    "def format_docs(docs):\n",
    "    return \"\\n\\n\".join(doc.page_content for doc in docs)\n",
    "retriever_chain_1 = retriever1 | format_docs # chain\n",
    "print(retriever_chain_1.invoke(\"¿Cuáles son los principios fundamentales que establece la Constitución de 1925 en cuanto a la organización del Estado y la soberanía?\"))"
   ]
  },
  {
   "cell_type": "code",
   "execution_count": 10,
   "metadata": {
    "id": "gPIySdDFn99l"
   },
   "outputs": [
    {
     "name": "stdout",
     "output_type": "stream",
     "text": [
      "Evaluating Forecasts – Validation Strategies492\n",
      "Model validation\n",
      "In Chapter 18, Evaluating Forecasts – Forecast Metrics, we learned about different forecast metrics that \n",
      "can be used to measure the quality of a forecast. One of the main uses for this is to measure how well \n",
      "our forecast is doing on test data (new and unseen data), but this comes after we train a model, tweak \n",
      "it, and tinker with it until we are happy with it. How do we know whether a model we are training or\n",
      "\n",
      "Evaluating Forecasts – Forecast Metrics488\n",
      "• Percent error and symmetric error are not symmetric in the complete sense and favor under-\n",
      "forecasting and over-forecasting, respectively. MAPE, which is a very popular metric, is plagued \n",
      "by this shortcoming. For instance, if we are forecasting demand, optimizing for MAPE will lead \n",
      "you to select a forecast that is conservative and therefore under-forecast. This will lead to an\n",
      "\n",
      "Evaluating Forecasts – Forecast Metrics482\n",
      "Extrinsic errors\n",
      "With all the intrinsic measures done, we can also take  a look at the extrinsic ones. With extrinsic \n",
      "measures, plotting the loss curves and checking symmetry is not as easy. Instead of two variables, \n",
      "we now have three – the actual observation, the forecast, and the reference forecast; the value of the \n",
      "measure can vary with any of these. We can use a contour plot for this as shown in Figure 18.6:\n"
     ]
    }
   ],
   "source": [
    "retriever_chain_2 = retriever2 | format_docs # chain\n",
    "print(retriever_chain_2.invoke(\"Cuáles métricas se proponen para evaluar los modelos?\"))"
   ]
  },
  {
   "cell_type": "markdown",
   "metadata": {
    "id": "ycg5S5i_n-kL"
   },
   "source": [
    "#### **2.1.4 Verificación de respuestas (0.5 puntos)**\n",
    "\n",
    "Genere un listado de 3 tuplas (\"pregunta\", \"respuesta correcta\") y analice la respuesta de su solución para cada una. ¿Su solución RAG entrega las respuestas que esperaba?\n",
    "\n",
    "Ejemplo de tupla:\n",
    "- Pregunta: ¿Quién es el presidente de Chile?\n",
    "- Respuesta correcta: El presidente de Chile es Gabriel Boric"
   ]
  },
  {
   "cell_type": "code",
   "execution_count": 11,
   "metadata": {},
   "outputs": [],
   "source": [
    "from langchain_google_genai import ChatGoogleGenerativeAI\n",
    "\n",
    "llm = ChatGoogleGenerativeAI(\n",
    "    model=\"gemini-1.5-flash\", # modelo de lenguaje\n",
    "    temperature=0, # probabilidad de \"respuestas creativas\"\n",
    "    max_tokens=None, # sin tope de tokens\n",
    "    timeout=None, # sin timeout\n",
    "    max_retries=2, # número máximo de intentos\n",
    ")"
   ]
  },
  {
   "cell_type": "markdown",
   "metadata": {},
   "source": [
    "Pregunta: ¿Cuáles son los principios fundamentales que establece la Constitución de 1925 en cuanto a la organización del Estado y la soberanía?\n",
    "\n",
    "Respuesta correcta: El Estado de Chile es unitario, y su gobierno es republicano, democrático y representativo. La soberanía reside esencialmente en la nación.\n",
    "\n",
    "Pregunta: ¿Qué establece la Constitución de 1925 sobre la responsabilidad del Estado hacia la salud pública?\n",
    "\n",
    "Respuesta correcta: Es deber del Estado velar por la salud pública y el bienestar higiénico del país, asignando un presupuesto anual para un servicio nacional de salubridad.\n",
    "\n",
    "Pregunta: ¿Qué derechos de libre tránsito establece la Constitución de 1925?\n",
    "\n",
    "Respuesta correcta: Garantiza la libertad de permanecer en cualquier punto de la República, trasladarse dentro del territorio nacional o salir del país, siempre que se respeten las normas de policía."
   ]
  },
  {
   "cell_type": "code",
   "execution_count": 12,
   "metadata": {
    "id": "S_UiEn1hoZYR"
   },
   "outputs": [
    {
     "name": "stdout",
     "output_type": "stream",
     "text": [
      "-----------------------\n",
      "La Constitución Política de la República de Chile de 1925, según el fragmento proporcionado, establece que el Estado de Chile es unitario, con un Gobierno republicano y democrático representativo (Art. 1).  La soberanía reside esencialmente en la Nación (Art. 2, fragmento incompleto).\n",
      "\n",
      "-----------------------\n",
      "La Constitución de 1925 establece que es deber del Estado velar por la salud pública y el bienestar higiénico del país, debiendo destinar anualmente una cantidad de dinero suficiente para mantener un servicio nacional de salubridad.\n",
      "\n",
      "-----------------------\n",
      "La Constitución de 1925, según el artículo 15°, establece la libertad de permanecer en cualquier punto de la República, trasladarse de un lugar a otro o salir de su territorio.  Esta libertad está condicionada al cumplimiento de los reglamentos de policía, y las reuniones se regirán por las disposiciones generales de policía.\n",
      "\n"
     ]
    }
   ],
   "source": [
    "from langchain_core.prompts import PromptTemplate\n",
    "from langchain_core.runnables import RunnablePassthrough\n",
    "from langchain_core.output_parsers import StrOutputParser\n",
    "\n",
    "# noten como ahora existe el parámetro de context!\n",
    "rag_template1 = '''\n",
    "Eres un asistente experto en la interpretación de documentos históricos de Chile.\n",
    "Tu único rol es contestar preguntas del usuario a partir de información relevante que te sea proporcionada.\n",
    "Responde siempre de la forma más completa posible y usando toda la información entregada.\n",
    "Responde sólo lo que te pregunten a partir de la información relevante, NUNCA inventes una respuesta.\n",
    "\n",
    "Información relevante:\n",
    "{context}\n",
    "\n",
    "Pregunta:\n",
    "{question}\n",
    "\n",
    "Respuesta útil:\n",
    "'''\n",
    "\n",
    "rag_prompt1 = PromptTemplate.from_template(rag_template1)\n",
    "\n",
    "rag_chain1 = (\n",
    "    {\n",
    "        \"context\": retriever_chain_1, # context lo obtendremos del retriever_chain\n",
    "        \"question\": RunnablePassthrough(), # question pasará directo hacia el prompt\n",
    "    }\n",
    "    | rag_prompt1 # prompt con las variables question y context\n",
    "    | llm # llm recibe el prompt y responde\n",
    "    | StrOutputParser() # recuperamos sólo la respuesta\n",
    ")\n",
    "\n",
    "questions = [\n",
    "    \"¿Cuáles son los principios fundamentales que establece la Constitución de 1925 en cuanto a la organización del Estado y la soberanía?\",\n",
    "    \"¿Qué establece la Constitución de 1925 sobre la responsabilidad del Estado hacia la salud pública?\",\n",
    "    \"¿Qué derechos de libre tránsito establece la Constitución de 1925?\",\n",
    "]\n",
    "for question in questions:\n",
    "    print('-----------------------')\n",
    "    response = rag_chain1.invoke(question)\n",
    "    print(response)"
   ]
  },
  {
   "cell_type": "markdown",
   "metadata": {},
   "source": [
    "Pregunta: ¿Qué es el MAPE y cuáles son sus limitaciones al usarse para la evaluación de modelos de forecast?\n",
    "\n",
    "Respuesta correcta: El MAPE (Mean Absolute Percentage Error) es una métrica popular para medir la precisión de un pronóstico, pero tiene limitaciones. Una de sus principales desventajas es que no es simétrica, lo que favorece la subestimación o sobreestimación de los pronósticos. Esto significa que, al optimizar un modelo con MAPE, el modelo tiende a ser conservador y puede subestimar la demanda.\n",
    "\n",
    "Pregunta: ¿Qué son los errores extrínsecos en la evaluación de pronósticos y cómo se representan?\n",
    "\n",
    "Respuesta correcta: Los errores extrínsecos se refieren a medidas que involucran tres variables: la observación real, el pronóstico y el pronóstico de referencia. A diferencia de las métricas intrínsecas, las medidas extrínsecas no son fáciles de visualizar a través de gráficos simples, ya que deben considerarse las tres variables. Una forma de visualizarlas es mediante un gráfico de contorno.\n",
    "\n",
    "Pregunta: ¿Cuál es el propósito de utilizar métricas de pronóstico al evaluar modelos de series de tiempo?\n",
    "\n",
    "Respuesta correcta: El propósito de usar métricas de pronóstico es medir la calidad de un modelo de forecast, especialmente al evaluar su desempeño con datos no vistos (test data). Esto se realiza después de entrenar el modelo, ajustarlo y probarlo para determinar su efectividad en situaciones reales."
   ]
  },
  {
   "cell_type": "code",
   "execution_count": 13,
   "metadata": {},
   "outputs": [
    {
     "name": "stdout",
     "output_type": "stream",
     "text": [
      "-----------------------\n",
      "MAPE (Mean Absolute Percentage Error) es una métrica popular para evaluar modelos de forecast.  Sin embargo, tiene una limitación importante: no es simétrico y favorece la subestimación (under-forecasting).  Al optimizar para MAPE en la predicción de la demanda, por ejemplo, se seleccionará un pronóstico conservador que subestima la demanda.\n",
      "\n",
      "-----------------------\n",
      "Los errores extrínsecos en la evaluación de pronósticos utilizan una referencia o benchmark externo, además del pronóstico generado y los valores reales.  A diferencia de las métricas intrínsecas, no se pueden representar fácilmente mediante la gráfica de curvas de pérdida y la comprobación de simetría, ya que involucran tres variables: la observación real, el pronóstico y el pronóstico de referencia.  Para su representación se puede utilizar un diagrama de contorno, como se muestra en la Figura 18.6 (aunque la figura no está incluida en el texto proporcionado).  El valor de la medida puede variar con cualquiera de estas tres variables.\n",
      "\n",
      "-----------------------\n",
      "Las métricas de pronóstico ayudan a evaluar qué tan bien un modelo elegido puede aproximar una serie de tiempo, en lugar de medir directamente la previsibilidad de la serie en sí misma.  Esto es especialmente importante porque los métodos de evaluación de la previsibilidad son dependientes del modelo.  Además, en escenarios con múltiples series de tiempo, las métricas agregadas son necesarias para capturar las características de la mezcla de series, ya que analizar métricas individuales se vuelve inviable.  Finalmente, las métricas de pronóstico deben considerar la relevancia temporal de las predicciones, como lo hacen métricas como el sesgo de pronóstico y la señal de seguimiento.\n",
      "\n"
     ]
    }
   ],
   "source": [
    "# noten como ahora existe el parámetro de context!\n",
    "rag_template2 = '''\n",
    "Eres un asistente experto en el análisis y la interpretación de documentos técnicos sobre series de tiempo y forecasting.\n",
    "Tu único rol es contestar preguntas del usuario a partir de la información relevante sobre el tema que te sea proporcionada.\n",
    "Responde siempre de la forma más completa posible y utilizando toda la información entregada.\n",
    "Responde sólo lo que te pregunten a partir de la información relevante, NUNCA inventes una respuesta.\n",
    "\n",
    "Información relevante:\n",
    "{context}\n",
    "\n",
    "Pregunta:\n",
    "{question}\n",
    "\n",
    "Respuesta útil:\n",
    "'''\n",
    "\n",
    "rag_prompt2 = PromptTemplate.from_template(rag_template2)\n",
    "\n",
    "rag_chain2 = (\n",
    "    {\n",
    "        \"context\": retriever_chain_2, # context lo obtendremos del retriever_chain\n",
    "        \"question\": RunnablePassthrough(), # question pasará directo hacia el prompt\n",
    "    }\n",
    "    | rag_prompt2 # prompt con las variables question y context\n",
    "    | llm # llm recibe el prompt y responde\n",
    "    | StrOutputParser() # recuperamos sólo la respuesta\n",
    ")\n",
    "print('-----------------------')\n",
    "response = rag_chain2.invoke(\"¿Qué es el MAPE y cuáles son sus limitaciones al usarse para la evaluación de modelos de forecast?\")\n",
    "print(response)\n",
    "print('-----------------------')\n",
    "response = rag_chain2.invoke('¿Qué son los errores extrínsecos en la evaluación de pronósticos y cómo se representan?')\n",
    "print(response)\n",
    "print('-----------------------')\n",
    "response = rag_chain2.invoke(\"Cuál es el propósito de utilizar métricas de pronóstico al evaluar modelos de series de tiempo?\")\n",
    "print(response)"
   ]
  },
  {
   "cell_type": "markdown",
   "metadata": {
    "id": "X8d5zTMHoUgF"
   },
   "source": [
    "#### **2.1.5 Sensibilidad de Hiperparámetros (0.5 puntos)**\n",
    "\n",
    "Extienda el análisis del punto 2.1.4 analizando cómo cambian las respuestas entregadas cambiando los siguientes hiperparámetros:\n",
    "- `Tamaño del chunk`. (*¿Cómo repercute que los chunks sean mas grandes o chicos?*)\n",
    "- `La cantidad de chunks recuperados`. (*¿Qué pasa si se devuelven muchos/pocos chunks?*)\n",
    "- `El tipo de búsqueda`. (*¿Cómo afecta el tipo de búsqueda a las respuestas de mi RAG?*)"
   ]
  },
  {
   "cell_type": "code",
   "execution_count": 15,
   "metadata": {
    "id": "UDh_QgeXLGHc"
   },
   "outputs": [
    {
     "name": "stdout",
     "output_type": "stream",
     "text": [
      "Probando configuración: chunk_size=1000, k=5, search_type=mmr\n",
      "Respuesta para la pregunta: ¿Cuáles son los principios fundamentales que establece la Constitución de 1925 en cuanto a la organización del Estado y la soberanía?\n",
      "La Constitución Política de la República de Chile de 1925, según el fragmento proporcionado, establece que el Estado de Chile es unitario, con un Gobierno republicano y democrático representativo (Art. 1).  La soberanía reside esencialmente en la Nación (Art. 2, fragmento incompleto).\n",
      "\n",
      "------------------------------\n",
      "Respuesta para la pregunta: ¿Qué establece la Constitución de 1925 sobre la responsabilidad del Estado hacia la salud pública?\n",
      "La Constitución de 1925 establece que es deber del Estado velar por la salud pública y el bienestar higiénico del país, debiendo destinar anualmente una cantidad de dinero suficiente para mantener un servicio nacional de salubridad.\n",
      "\n",
      "------------------------------\n",
      "Respuesta para la pregunta: ¿Qué derechos de libre tránsito establece la Constitución de 1925?\n",
      "La Constitución de 1925, según el artículo 15°, establece la libertad de permanecer en cualquier punto de la República, trasladarse de un lugar a otro o salir de su territorio.  Esta libertad está condicionada al cumplimiento de los reglamentos de policía, y las reuniones se regirán por las disposiciones generales de policía.\n",
      "\n",
      "------------------------------\n"
     ]
    }
   ],
   "source": [
    "# Ejemplo de combinación de hiperparámetros\n",
    "chunk_sizes = [1000]\n",
    "k_values = [5]\n",
    "search_types = [\"mmr\"]\n",
    "\n",
    "for chunk_size in chunk_sizes:\n",
    "    for k in k_values:\n",
    "        for search_type in search_types:\n",
    "            print(f\"Probando configuración: chunk_size={chunk_size}, k={k}, search_type={search_type}\")\n",
    "            \n",
    "            text_splitter = RecursiveCharacterTextSplitter(chunk_size=chunk_size, chunk_overlap=50)\n",
    "            splits1 = text_splitter.split_documents(docs1)\n",
    "\n",
    "            retriever1 = vectorstore1.as_retriever(search_type=search_type, search_kwargs={\"k\": k})\n",
    "\n",
    "            for question in questions:\n",
    "                response = rag_chain1.invoke(question)\n",
    "                print(f\"Respuesta para la pregunta: {question}\")\n",
    "                print(response)\n",
    "                print(\"-\" * 30)\n"
   ]
  },
  {
   "cell_type": "markdown",
   "metadata": {},
   "source": [
    "Tamaño del chunk: Afecta la especificidad y el contexto de las respuestas. Chunks más pequeños ofrecen respuestas más centradas pero con menos contexto, mientras que chunks grandes proporcionan más contexto pero pueden introducir ruido.\n",
    "\n",
    "Cantidad de chunks recuperados (k): Al aumentar k, se mejora la diversidad de información, pero puede generar redundancias. Con k=3, el modelo parece encontrar un buen balance.\n",
    "\n",
    "Tipo de búsqueda: Similarity es útil para precisión, pero MMR aporta más diversidad, mejorando la calidad de las respuestas al evitar redundancias y ofreciendo un contexto más rico."
   ]
  },
  {
   "cell_type": "markdown",
   "metadata": {
    "id": "ENJiPPM0giX8"
   },
   "source": [
    "### **2.2 Agentes (1.0 puntos)**\n",
    "\n",
    "<p align=\"center\">\n",
    "  <img src=\"https://media1.tenor.com/m/rcqnN2aJCSEAAAAd/secret-agent-man.gif\"\n",
    "\" width=\"400\">\n",
    "</p>\n",
    "\n",
    "Similar a la sección anterior, en esta sección se busca habilitar **Agentes** para obtener información a través de tools y así responder la pregunta del usuario."
   ]
  },
  {
   "cell_type": "markdown",
   "metadata": {
    "id": "V47l7Mjfrk0N"
   },
   "source": [
    "#### **2.2.1 Tool de Tavily (0.2 puntos)**\n",
    "\n",
    "Generar una *tool* que pueda hacer consultas al motor de búsqueda **Tavily**."
   ]
  },
  {
   "cell_type": "markdown",
   "metadata": {
    "id": "SonB1A-9rtRq"
   },
   "source": [
    "#### **2.2.2 Tool de Wikipedia (0.2 puntos)**\n",
    "\n",
    "Generar una *tool* que pueda hacer consultas a **Wikipedia**.\n",
    "\n",
    "*Hint: Le puede ser de ayuda el siguiente [link](https://python.langchain.com/v0.1/docs/modules/tools/).*"
   ]
  },
  {
   "cell_type": "code",
   "execution_count": null,
   "metadata": {
    "id": "ehJJpoqsr26-"
   },
   "outputs": [],
   "source": [
    "\n",
    "from tavily import TavilyClient\n",
    "from langchain.tools import BaseTool\n",
    "import os\n",
    "from dotenv import load_dotenv\n",
    "\n",
    "# 3. Cargar y configurar la API key\n",
    "load_dotenv()\n",
    "TAVILY_API_KEY = os.getenv(\"TAVILY_API_KEY\")\n",
    "\n",
    "# 4. Verificar que la API key \n",
    "if not TAVILY_API_KEY:\n",
    "    raise ValueError(\"No se encontró la API key de Tavily\")"
   ]
  },
  {
   "cell_type": "code",
   "execution_count": 35,
   "metadata": {},
   "outputs": [
    {
     "name": "stdout",
     "output_type": "stream",
     "text": [
      "{'query': 'inteligencia artificial en banca', 'follow_up_questions': None, 'answer': None, 'images': [], 'results': [{'title': 'IA en la banca: cómo se utiliza la inteligencia artificial en los bancos', 'url': 'https://gamco.es/ia-en-la-banca-como-se-utiliza-la-inteligencia-artificial-en-los-bancos/', 'content': 'Cómo la Inteligencia Artificial impulsa la banca hacia una mejor experiencia de asesoría. Los bancos pueden brindar asesoramiento más personalizado, accesible y basado en datos a sus clientes, lo que les ayuda a tomar decisiones financieras informadas y alcanzar sus metas, utilizando inteligencia artificial:. Recomendaciones de productos personalizados: La inteligencia artificial puede', 'score': 0.99937856, 'raw_content': None}, {'title': 'Inteligencia artificial en los bancos: retos y aplicaciones | APD', 'url': 'https://www.apd.es/inteligencia-artificial-bancos/', 'content': 'La inteligencia artificial en los bancos ha transformado la experiencia de los usuarios, además de optimizar procesos internos y reforzar la seguridad para evitar fraudes. Sigue leyendo para conocer cómo la IA está transformando los servicios financieros, así como los beneficios de la inteligencia artificial en el sector bancario.', 'score': 0.99926203, 'raw_content': None}, {'title': '¿Qué es la inteligencia artificial y cómo afecta a la banca?', 'url': 'https://www.santander.com/es/stories/inteligencia-artificial', 'content': 'Usos de la inteligencia artificial en la banca. Diferentes sectores aprovechan las ventajas de la IA para desarrollar una nueva generación de productos y servicios más personalizados y adaptados a las necesidades de las personas y las empresas. En el caso del sector bancario, algunas de las aplicaciones para las que se usa la IA son:', 'score': 0.9987696, 'raw_content': None}, {'title': '¿Qué es la IA en el sector bancario? - IBM', 'url': 'https://www.ibm.com/es-es/topics/ai-in-banking', 'content': 'La inteligencia artificial (IA) es una tecnología cada vez más importante para el sector bancario. Cuando se utiliza como herramienta para impulsar las operaciones internas y las aplicaciones orientadas al cliente, puede ayudar a los bancos a mejorar el servicio al cliente, la detección de fraudes y la gestión del dinero y las inversiones.. Para mantenerse a la vanguardia de las tendencias', 'score': 0.99866986, 'raw_content': None}, {'title': 'El papel de la IA en banca: beneficios y riesgos - VASS', 'url': 'https://vasscompany.com/es/insights/blogs-articles/ia-en-banca-beneficios-y-riesgos/', 'content': 'Ya en 2020, Business Insider sugirió que casi el 80% de los bancos eran conscientes del impacto de la inteligencia artificial en la banca. Tres años después, este potencial ha explotado, y la inteligencia artificial ya forma parte de la vida cotidiana en el sector bancario.', 'score': 0.99818975, 'raw_content': None}, {'title': 'La inteligencia artificial en el sector bancario - Red Hat', 'url': 'https://www.redhat.com/es/topics/ai/ai-in-banking', 'content': 'Enlaces destacados Destacados Destacados Sin embargo, la tarea de ajustar la implementación de la inteligencia artificial en el sector bancario presenta varios obstáculos relacionados con los productos, los datos, el cumplimiento normativo, las operaciones y la contratación y capacitación del personal. Estas funciones abarcan desde aspectos técnicos, como el entrenamiento y la gestión de datos, hasta factores empresariales, como el control y la contratación de personal. Siempre ha sido complejo poner los datos a disposición de los analistas. Para integrar la inteligencia artificial al sector bancario es fundamental no solo conocer las funciones necesarias, sino también encontrar los partners y las herramientas adecuadas para facilitar el proceso.', 'score': 0.99533635, 'raw_content': None}, {'title': 'Las advertencias sobre la adopción de la IA en la banca y las ...', 'url': 'https://www.bloomberglinea.com/negocios/las-advertencias-sobre-la-adopcion-de-la-ia-en-la-banca-y-las-tendencias-para-el-2025/', 'content': 'Según cifras divulgadas por el Fondo Monetario Internacional (FMI), la inteligencia artificial (IA) afectará a casi el 40% de los empleos en todo el mundo, \"reemplazando algunos y complementando otros\", de acuerdo a una nota firmada por la directora gerente de ese organismo, Kristalina Georgieva. De acuerdo a un informe de la firma Accenture, en la banca, el 54% del tiempo de trabajo', 'score': 0.9914887, 'raw_content': None}, {'title': 'PDF', 'url': 'https://s1.aebanca.es/wp-content/uploads/2019/07/la-inteligencia-artificial-en-el-sector-bancario.pdf', 'content': 'u bienestar.2.- La Inteligencia Artificial en el sector bancarioUno de los sectores q. e más ha recurrido a los avances en la IA es el sector bancario. Gracias a estas tecnologías se está mejorando la experiencia del usuario, aumentando la eficienci. seguridad, entre otros.Mejoras en los servicios a los clientes La IA tiene el potencial para', 'score': 0.98486924, 'raw_content': None}, {'title': 'La IA en la banca: Cómo la IA está transformando el sector ... - DataCamp', 'url': 'https://www.datacamp.com/es/blog/ai-in-banking', 'content': 'Analizamos a fondo las aplicaciones de la IA en el sector bancario: modelización del riesgo crediticio, detección del fraude, pérdida de clientes y bots de atención al cliente. Analizar los retos a los que se enfrentan estas áreas revela por qué puede ralentizarse el progreso de la IA en este sector. Actualizado 28 jun. 2024 · 16 min de', 'score': 0.98065484, 'raw_content': None}, {'title': 'Inteligencia Artificial en la Banca: Una Perspectiva Integral ... - Latinia', 'url': 'https://latinia.com/es/resources/inteligencia-artificial-banca-perspectiva-integral-2024', 'content': 'IA en Wells Fargo y Bank of America\\nAl explorar el panorama de la IA en la banca, es esencial enfocarse en algunos de los líderes de la industria que están estableciendo estándares en la adopción de la IA. Algo innegociable para los consumidoresLa importancia de unos tipos de interés competitivosTendencias generacionales en preferencias ba...\\nPanorama actual de la banca móvilPrincipales tendencias de la banca móvil en 2024Innovación en los servicios de banca móvilImpacto estratégico de las ...\\n¿Hablamos de cómo podemos colaborar juntos?\\n La Necesidad de Integración de la IA en Bancos Tradicionales con Sistemas Heredados\\nMientras que la adopción de la IA está acelerando, es esencial tener en cuenta que una parte significativa de la industria bancaria todavía opera en sistemas heredados. IA en CitiBank y US Bank\\nContinuando nuestra exploración de los pioneros de la IA en el sector bancario, CitiBank y US Bank ofrecen estudios de caso convincentes sobre cómo se puede aprovechar la IA tanto para la seguridad como para la participación del cliente. El Panorama de la IA en la Banca\\nLa adopción de la IA en la industria bancaria es un enfoque multifacético que toca diversos aspectos de las operaciones bancarias.', 'score': 0.9759464, 'raw_content': None}], 'response_time': 2.37}\n"
     ]
    }
   ],
   "source": [
    "import requests\n",
    "\n",
    "class TavilySearchTool:\n",
    "    def __init__(self, api_key: str):\n",
    "        self.api_key = api_key\n",
    "        self.base_url = \"https://api.tavily.com/search\"\n",
    "    \n",
    "    def search(self, query: str, max_results: int = 10):\n",
    "        \"\"\"\n",
    "        Realiza una búsqueda en Tavily.\n",
    "\n",
    "        Args:\n",
    "            query (str): La consulta de búsqueda.\n",
    "            max_results (int): Número máximo de resultados a retornar.\n",
    "\n",
    "        Returns:\n",
    "            dict: Resultados de la búsqueda o un mensaje de error.\n",
    "        \"\"\"\n",
    "        headers = {\n",
    "            \"Content-Type\": \"application/json\"\n",
    "        }\n",
    "        payload = {\n",
    "            \"api_key\": self.api_key,\n",
    "            \"query\": query,\n",
    "            \"max_results\": max_results\n",
    "        }\n",
    "        try:\n",
    "            response = requests.post(self.base_url, headers=headers, json=payload)\n",
    "            response.raise_for_status()  # Lanza un error si el estado HTTP es 4XX/5XX\n",
    "            return response.json()\n",
    "        except requests.exceptions.RequestException as e:\n",
    "            return {\"error\": str(e)}\n",
    "\n",
    "# Ejemplo de uso\n",
    "if __name__ == \"__main__\":\n",
    "    api_key = \"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\" \n",
    "    tool = TavilySearchTool(api_key)\n",
    "    resultados = tool.search(\"inteligencia artificial en banca\")\n",
    "    print(resultados)\n",
    "\n",
    "\n"
   ]
  },
  {
   "cell_type": "code",
   "execution_count": 36,
   "metadata": {},
   "outputs": [
    {
     "name": "stdout",
     "output_type": "stream",
     "text": [
      "{'batchcomplete': '', 'continue': {'sroffset': 10, 'continue': '-||'}, 'query': {'searchinfo': {'totalhits': 470, 'suggestion': 'inteligencia artificial en banda', 'suggestionsnippet': 'inteligencia artificial en <em>banda</em>'}, 'search': [{'ns': 0, 'title': 'Inteligencia artificial débil', 'pageid': 6593762, 'size': 5693, 'wordcount': 868, 'snippet': 'define como la <span class=\"searchmatch\">inteligencia</span> <span class=\"searchmatch\">artificial</span> racional que se centra típicamente <span class=\"searchmatch\">en</span> una tarea estrecha. La <span class=\"searchmatch\">inteligencia</span> de la IA débil es limitada. <span class=\"searchmatch\">En</span> 2011, la página', 'timestamp': '2024-04-08T18:19:21Z'}, {'ns': 0, 'title': 'Aplicaciones de la inteligencia artificial', 'pageid': 6514981, 'size': 22247, 'wordcount': 2762, 'snippet': 'La <span class=\"searchmatch\">inteligencia</span> <span class=\"searchmatch\">artificial</span> se está aplicando <span class=\"searchmatch\">en</span> un amplio número de campos: diagnóstico médico, comercio de acciones, control robótico, leyes, percepción', 'timestamp': '2024-10-19T23:51:16Z'}, {'ns': 0, 'title': 'Progreso en la inteligencia artificial', 'pageid': 10600007, 'size': 59562, 'wordcount': 5742, 'snippet': 'tareas que normalmente requieren <span class=\"searchmatch\">inteligencia</span> humana. Las aplicaciones de la <span class=\"searchmatch\">inteligencia</span> <span class=\"searchmatch\">artificial</span> se han utilizado <span class=\"searchmatch\">en</span> una amplia gama de campos, incluyendo', 'timestamp': '2024-06-20T17:19:20Z'}, {'ns': 0, 'title': 'AIS Aplicaciones de Inteligencia Artificial', 'pageid': 3927382, 'size': 6737, 'wordcount': 874, 'snippet': 'AIS Aplicaciones de <span class=\"searchmatch\">Inteligencia</span> <span class=\"searchmatch\">Artificial</span>, S.A. es una empresa de consultoría estratégica, financiera y tecnológica. Su especialidad es la creación', 'timestamp': '2024-10-12T17:30:27Z'}, {'ns': 0, 'title': 'Inteligencia colectiva', 'pageid': 1809104, 'size': 18862, 'wordcount': 2248, 'snippet': 'La <span class=\"searchmatch\">inteligencia</span> colectiva es una forma de <span class=\"searchmatch\">inteligencia</span> que surge a partir de la colaboración de diversos individuos, generalmente de una misma especie', 'timestamp': '2024-11-12T04:16:41Z'}, {'ns': 0, 'title': 'Neobanco', 'pageid': 9259124, 'size': 6102, 'wordcount': 380, 'snippet': 'tecnología y pueden adoptar tecnologías de aprendizaje automático e <span class=\"searchmatch\">inteligencia</span> <span class=\"searchmatch\">artificial</span> sin estar limitados por los sistemas heredados de los competidores', 'timestamp': '2024-06-17T14:29:14Z'}, {'ns': 0, 'title': 'Inteligencia Artificial para el Medio Ambiente y la Sostenibilidad', 'pageid': 10165810, 'size': 11049, 'wordcount': 937, 'snippet': '<span class=\"searchmatch\">Inteligencia</span> <span class=\"searchmatch\">Artificial</span> para el Medio Ambiente y la Sostenibilidad (ARIES) es un proyecto de investigación internacional sin ánimo de lucro alojado en', 'timestamp': '2024-09-21T02:40:00Z'}, {'ns': 0, 'title': 'Regulación de algoritmos', 'pageid': 10091163, 'size': 26813, 'wordcount': 2835, 'snippet': 'particularmente <span class=\"searchmatch\">en</span> aprendizaje automático e <span class=\"searchmatch\">inteligencia</span> <span class=\"searchmatch\">artificial</span>.[1]\\u200b[2]\\u200b Para la regulación de los algoritmos de <span class=\"searchmatch\">inteligencia</span> <span class=\"searchmatch\">artificial</span> (IA), se emplea', 'timestamp': '2023-08-30T07:10:08Z'}, {'ns': 0, 'title': 'Brecha de género en la IA', 'pageid': 10571089, 'size': 12209, 'wordcount': 1674, 'snippet': 'brecha de género <span class=\"searchmatch\">en</span> la <span class=\"searchmatch\">inteligencia</span> <span class=\"searchmatch\">artificial</span> (IA) se define como los sesgos de género codificados <span class=\"searchmatch\">en</span> productos tecnológicos de IA, <span class=\"searchmatch\">en</span> los sectores tecnológico', 'timestamp': '2023-10-10T21:10:27Z'}, {'ns': 0, 'title': 'Prometea', 'pageid': 9532543, 'size': 15511, 'wordcount': 1835, 'snippet': 'externos (Ignacio Raffa y Nicolás Vilella),[7]\\u200b especialistas <span class=\"searchmatch\">en</span> <span class=\"searchmatch\">inteligencia</span> <span class=\"searchmatch\">artificial</span> y contratados especialmente para la implementación y mantenimiento', 'timestamp': '2023-03-26T19:43:57Z'}]}}\n"
     ]
    }
   ],
   "source": [
    "import requests\n",
    "\n",
    "class WikipediaSearchTool:\n",
    "    def __init__(self, language: str = \"es\"):\n",
    "        self.base_url = f\"https://{language}.wikipedia.org/w/api.php\"\n",
    "    \n",
    "    def search(self, query: str):\n",
    "        \"\"\"\n",
    "        Realiza una búsqueda en Wikipedia.\n",
    "\n",
    "        Args:\n",
    "            query (str): Término de búsqueda.\n",
    "\n",
    "        Returns:\n",
    "            dict: Resultados de la búsqueda.\n",
    "        \"\"\"\n",
    "        params = {\n",
    "            \"action\": \"query\",\n",
    "            \"list\": \"search\",\n",
    "            \"srsearch\": query,\n",
    "            \"format\": \"json\"\n",
    "        }\n",
    "        try:\n",
    "            response = requests.get(self.base_url, params=params)\n",
    "            response.raise_for_status()  # Lanza un error si el estado HTTP es 4XX/5XX\n",
    "            return response.json()\n",
    "        except requests.exceptions.RequestException as e:\n",
    "            return {\"error\": str(e)}\n",
    "\n",
    "# Ejemplo de uso\n",
    "if __name__ == \"__main__\":\n",
    "    tool = WikipediaSearchTool()\n",
    "    resultados = tool.search(\"inteligencia artificial en banca\")\n",
    "    print(resultados)\n"
   ]
  },
  {
   "cell_type": "markdown",
   "metadata": {
    "id": "CvUIMdX6r0ne"
   },
   "source": [
    "#### **2.2.3 Crear Agente (0.3 puntos)**\n",
    "\n",
    "Crear un agente que pueda responder preguntas preguntas usando las *tools* antes generadas. Asegúrese que su agente responda en español. Por último, guarde el agente en una variable."
   ]
  },
  {
   "cell_type": "code",
   "execution_count": 38,
   "metadata": {
    "id": "pD1_n0wrsDI5"
   },
   "outputs": [
    {
     "name": "stdout",
     "output_type": "stream",
     "text": [
      "Consultando en Tavily: ¿Cómo se usa la inteligencia artificial en la banca?\n",
      "Respuesta de Tavily:\n",
      "{'query': '¿Cómo se usa la inteligencia artificial en la banca?', 'follow_up_questions': None, 'answer': None, 'images': [], 'results': [{'title': 'IA en la banca: cómo se utiliza la inteligencia artificial en los bancos', 'url': 'https://gamco.es/ia-en-la-banca-como-se-utiliza-la-inteligencia-artificial-en-los-bancos/', 'content': 'Cómo la Inteligencia Artificial impulsa la banca hacia una mejor experiencia de asesoría. Los bancos pueden brindar asesoramiento más personalizado, accesible y basado en datos a sus clientes, lo que les ayuda a tomar decisiones financieras informadas y alcanzar sus metas, utilizando inteligencia artificial:. Recomendaciones de productos personalizados: La inteligencia artificial puede', 'score': 0.99943405, 'raw_content': None}, {'title': 'Inteligencia artificial en los bancos: retos y aplicaciones | APD', 'url': 'https://www.apd.es/inteligencia-artificial-bancos/', 'content': 'La inteligencia artificial en los bancos ha transformado la experiencia de los usuarios, además de optimizar procesos internos y reforzar la seguridad para evitar fraudes. Sigue leyendo para conocer cómo la IA está transformando los servicios financieros, así como los beneficios de la inteligencia artificial en el sector bancario.', 'score': 0.99847525, 'raw_content': None}, {'title': 'Diez casos de uso para que la banca aproveche los beneficios de la ...', 'url': 'https://www.forbesargentina.com/innovacion/diez-casos-uso-banca-aproveche-beneficios-inteligencia-artificial-n30503', 'content': 'La inteligencia artificial en los bancos 6. Planificación financiera. Muchos clientes confían en los bancos para que les brinden servicios de planificación financiera, y esta es otra gran oportunidad para usar ChatGPT. Los bancos pueden utilizar el modelo para proporcionar servicios de planificación financiera personalizados, incluidos la', 'score': 0.9984573, 'raw_content': None}, {'title': 'Impacto de la Inteligencia Artificial en la Banca Digital', 'url': 'https://clavesfinancieras.com/impacto-de-la-inteligencia-artificial-en-la-banca-digital/', 'content': 'Este artículo explorará la evolución de la IA en la banca, sus beneficios y desafíos, así como su prometedor futuro. Historia y Evolución de la Inteligencia Artificial en la Banca. La implementación de la inteligencia artificial en la banca comenzó con automatizaciones simples y el uso de algoritmos para la gestión básica.', 'score': 0.99696034, 'raw_content': None}, {'title': 'Cómo se utiliza la Inteligencia Artificial (IA) en la banca - HIXSA', 'url': 'https://blog.hixsa.com/como-se-utiliza-la-inteligencia-artificial-ia-en-la-banca/', 'content': 'Con soluciones basadas en IA como RPA, Gen AI, procesamiento inteligente de documentos, inteligencia artificial conversacional y la lista continúa, los bancos pueden mejorar la experiencia de sus clientes, ya que están diseñadas para ser fáciles de implementar y usar.', 'score': 0.9964619, 'raw_content': None}, {'title': 'Inteligencia artificial en la banca: aplicaciones y pasos para adoptarla', 'url': 'https://blog.cobistopaz.com/es/blog/inteligencia-artificial-en-la-banca-aplicaciones-y-pasos-para-adaptarla', 'content': 'La inteligencia artificial está inmersa en diversos servicios y el sector financiero no es la excepción. ... La banca se caracteriza por ser una de las industrias que maneja mayores volúmenes de datos sobre sus clientes, y a medida que el sector se ha transformado de la mano de la tecnología es importante prestar atención al papel que toma', 'score': 0.9964204, 'raw_content': None}, {'title': '¿Qué es la inteligencia artificial y cómo afecta a la banca?', 'url': 'https://www.santander.com/es/stories/inteligencia-artificial', 'content': 'Para que la tecnología esté al servicio de las personas, y no al revés, es fundamental promover un uso correcto de la IA que tenga en cuenta temas fundamentales como la privacidad, la atribución de responsabilidad de las acciones de la IA, los sesgos o prejuicios en el diseño de los algoritmos, y el tratamiento correcto y respetuoso de los datos. Con la cantidad y variedad de dispositivos capaces de conectarse a internet, el denominado “banco de las cosas” es una infraestructura capaz de aprovechar la información que recibe para ofrecer servicios o tomar algunas decisiones financieras. En definitiva, la inteligencia artificial contribuye a una mayor protección de los clientes, el mejoramiento de los servicios y productos bancarios, así como a la eficiencia en las operaciones, entre otros aspectos.', 'score': 0.9960083, 'raw_content': None}, {'title': 'Inteligencia Artificial en la Banca: Una Perspectiva Integral ... - Latinia', 'url': 'https://latinia.com/es/resources/inteligencia-artificial-banca-perspectiva-integral-2024', 'content': 'IA en Wells Fargo y Bank of America\\nAl explorar el panorama de la IA en la banca, es esencial enfocarse en algunos de los líderes de la industria que están estableciendo estándares en la adopción de la IA. Algo innegociable para los consumidoresLa importancia de unos tipos de interés competitivosTendencias generacionales en preferencias ba...\\nPanorama actual de la banca móvilPrincipales tendencias de la banca móvil en 2024Innovación en los servicios de banca móvilImpacto estratégico de las ...\\n¿Hablamos de cómo podemos colaborar juntos?\\n La Necesidad de Integración de la IA en Bancos Tradicionales con Sistemas Heredados\\nMientras que la adopción de la IA está acelerando, es esencial tener en cuenta que una parte significativa de la industria bancaria todavía opera en sistemas heredados. IA en CitiBank y US Bank\\nContinuando nuestra exploración de los pioneros de la IA en el sector bancario, CitiBank y US Bank ofrecen estudios de caso convincentes sobre cómo se puede aprovechar la IA tanto para la seguridad como para la participación del cliente. El Panorama de la IA en la Banca\\nLa adopción de la IA en la industria bancaria es un enfoque multifacético que toca diversos aspectos de las operaciones bancarias.', 'score': 0.99499834, 'raw_content': None}, {'title': 'La inteligencia artificial en el sector bancario - Red Hat', 'url': 'https://www.redhat.com/es/topics/ai/ai-in-banking', 'content': 'Enlaces destacados Destacados Destacados Sin embargo, la tarea de ajustar la implementación de la inteligencia artificial en el sector bancario presenta varios obstáculos relacionados con los productos, los datos, el cumplimiento normativo, las operaciones y la contratación y capacitación del personal. Estas funciones abarcan desde aspectos técnicos, como el entrenamiento y la gestión de datos, hasta factores empresariales, como el control y la contratación de personal. Siempre ha sido complejo poner los datos a disposición de los analistas. Para integrar la inteligencia artificial al sector bancario es fundamental no solo conocer las funciones necesarias, sino también encontrar los partners y las herramientas adecuadas para facilitar el proceso.', 'score': 0.99459416, 'raw_content': None}, {'title': 'La IA en la banca: Cómo la IA está transformando el sector ... - DataCamp', 'url': 'https://www.datacamp.com/es/blog/ai-in-banking', 'content': 'Analizar los retos a los que se enfrentan estas áreas revela por qué puede ralentizarse el progreso de la IA en este sector. Estos retos, como la normativa, la interpretabilidad de los modelos, las consideraciones éticas y la resistencia al cambio, hacen que el sector se incline a menudo por soluciones sencillas. Los inconvenientes a los que se enfrenta la adopción de métodos avanzados de IA proceden del entorno en el que operan los bancos, los procedimientos establecidos y una baja tolerancia al riesgo. Esta es otra razón por la que los modelos lineales simples pueden ser preferibles en todas las aplicaciones. Sin embargo, a menudo descubrirás que es más importante una sólida comprensión de los fundamentos de la ciencia de datos y el machine learning.', 'score': 0.8349459, 'raw_content': None}], 'response_time': 2.51}\n",
      "Consultando en Wikipedia: ¿Cómo se usa la inteligencia artificial en la banca?\n",
      "Respuesta de Wikipedia:\n",
      "{'batchcomplete': '', 'continue': {'sroffset': 10, 'continue': '-||'}, 'query': {'searchinfo': {'totalhits': 97, 'suggestion': 'cómo se usa la inteligencia artificial en la banda ', 'suggestionsnippet': 'cómo se usa la inteligencia artificial en la <em>banda</em> '}, 'search': [{'ns': 0, 'title': 'Aplicaciones de la inteligencia artificial', 'pageid': 6514981, 'size': 22247, 'wordcount': 2762, 'snippet': '<span class=\"searchmatch\">La</span> <span class=\"searchmatch\">inteligencia</span> <span class=\"searchmatch\">artificial</span> <span class=\"searchmatch\">se</span> está aplicando <span class=\"searchmatch\">en</span> un amplio número de campos: diagnóstico médico, comercio de acciones, control robótico, leyes, percepción', 'timestamp': '2024-10-19T23:51:16Z'}, {'ns': 0, 'title': 'Progreso en la inteligencia artificial', 'pageid': 10600007, 'size': 59562, 'wordcount': 5742, 'snippet': 'Progreso <span class=\"searchmatch\">en</span> <span class=\"searchmatch\">Inteligencia</span> <span class=\"searchmatch\">Artificial</span> (IA) <span class=\"searchmatch\">se</span> refiere a los avances, hitos y descubrimientos que <span class=\"searchmatch\">se</span> han logrado <span class=\"searchmatch\">en</span> el campo de <span class=\"searchmatch\">la</span> <span class=\"searchmatch\">inteligencia</span> <span class=\"searchmatch\">artificial</span> a lo', 'timestamp': '2024-06-20T17:19:20Z'}, {'ns': 0, 'title': 'Minería de textos', 'pageid': 901321, 'size': 12903, 'wordcount': 1574, 'snippet': 'Supervisado de Inteligencia <span class=\"searchmatch\">Artificial</span>. Existen diferentes métodos de <span class=\"searchmatch\">inteligencia</span> <span class=\"searchmatch\">artificial</span> que <span class=\"searchmatch\">se</span> pueden aplicar <span class=\"searchmatch\">en</span> este caso, <span class=\"searchmatch\">como</span> lo son:[2]\\u200b Árboles de', 'timestamp': '2024-08-26T19:03:10Z'}, {'ns': 0, 'title': 'Étienne Wenger', 'pageid': 9099273, 'size': 7405, 'wordcount': 761, 'snippet': ' <span class=\"searchmatch\">en</span> <span class=\"searchmatch\">inteligencia</span> <span class=\"searchmatch\">artificial</span>, y trabajo con el Institute for Research on Learning para ayudar a aplicar su concepto de comunidades de practicar a <span class=\"searchmatch\">la</span> educación', 'timestamp': '2024-02-05T18:40:19Z'}, {'ns': 0, 'title': 'Alan Turing', 'pageid': 8139133, 'size': 62399, 'wordcount': 7095, 'snippet': 'la Universidad de Mánchester. <span class=\"searchmatch\">En</span> el campo de <span class=\"searchmatch\">la</span> <span class=\"searchmatch\">inteligencia</span> <span class=\"searchmatch\">artificial</span>, es conocido sobre todo por <span class=\"searchmatch\">la</span> concepción de <span class=\"searchmatch\">la</span> prueba de Turing (1950), un criterio', 'timestamp': '2024-11-10T16:25:30Z'}, {'ns': 0, 'title': 'Reconocimiento de expresiones faciales', 'pageid': 4344960, 'size': 8199, 'wordcount': 910, 'snippet': 'faciales es una parte de <span class=\"searchmatch\">la</span> <span class=\"searchmatch\">inteligencia</span> <span class=\"searchmatch\">artificial</span> que tiene <span class=\"searchmatch\">como</span> principal objetivo <span class=\"searchmatch\">la</span> realización de estudios de comportamiento o <span class=\"searchmatch\">la</span> detección de enfermedades', 'timestamp': '2024-01-26T22:30:52Z'}, {'ns': 0, 'title': 'Antivirus', 'pageid': 7335, 'size': 20392, 'wordcount': 2429, 'snippet': 'software <span class=\"searchmatch\">en</span> <span class=\"searchmatch\">la</span> máquina real. Basados <span class=\"searchmatch\">en</span> <span class=\"searchmatch\">la</span> Detección por <span class=\"searchmatch\">inteligencia</span> <span class=\"searchmatch\">artificial</span>: consiste <span class=\"searchmatch\">en</span> el uso de tecnologías de <span class=\"searchmatch\">inteligencia</span> <span class=\"searchmatch\">artificial</span> para detectar', 'timestamp': '2024-11-20T13:15:00Z'}, {'ns': 0, 'title': 'Internet en la ciencia ficción', 'pageid': 4266017, 'size': 10653, 'wordcount': 1520, 'snippet': '<span class=\"searchmatch\">En</span> este cuento, todos los ordenadores de un planeta <span class=\"searchmatch\">se</span> interconectan. El resultado es <span class=\"searchmatch\">la</span> aparición de una gigantesca <span class=\"searchmatch\">inteligencia</span> <span class=\"searchmatch\">artificial</span> que <span class=\"searchmatch\">se</span> rebela', 'timestamp': '2024-11-06T15:09:01Z'}, {'ns': 0, 'title': 'Ética de la tecnología', 'pageid': 8674998, 'size': 102473, 'wordcount': 13457, 'snippet': 'El uso de <span class=\"searchmatch\">la</span> tecnología <span class=\"searchmatch\">en</span> <span class=\"searchmatch\">la</span> ética también <span class=\"searchmatch\">se</span> convierte <span class=\"searchmatch\">en</span> un factor clave al considerar <span class=\"searchmatch\">la</span> <span class=\"searchmatch\">inteligencia</span> <span class=\"searchmatch\">artificial</span> (IA). <span class=\"searchmatch\">La</span> IA no <span class=\"searchmatch\">se</span> ve <span class=\"searchmatch\">como</span> una herramienta', 'timestamp': '2024-10-16T18:54:01Z'}, {'ns': 0, 'title': 'Macrodatos', 'pageid': 5242736, 'size': 118244, 'wordcount': 13746, 'snippet': 'macrodatos por el Laboratorio de Ciencias de <span class=\"searchmatch\">la</span> Computación e <span class=\"searchmatch\">Inteligencia</span> <span class=\"searchmatch\">Artificial</span> del MIT y Amir Esmailpour, <span class=\"searchmatch\">en</span> el Grupo de Investigación de UNH, investigó', 'timestamp': '2024-08-15T17:19:17Z'}]}}\n"
     ]
    }
   ],
   "source": [
    "class AgenteBusqueda:\n",
    "    def __init__(self, tavily_tool, wikipedia_tool):\n",
    "        \"\"\"\n",
    "        Inicializa el agente con las herramientas de Tavily y Wikipedia.\n",
    "        \n",
    "        Args:\n",
    "            tavily_tool: Instancia de TavilySearchTool.\n",
    "            wikipedia_tool: Instancia de WikipediaSearchTool.\n",
    "        \"\"\"\n",
    "        self.tavily_tool = tavily_tool\n",
    "        self.wikipedia_tool = wikipedia_tool\n",
    "    \n",
    "    def responder(self, pregunta: str, fuente: str = \"tavily\"):\n",
    "        \"\"\"\n",
    "        Responde a una pregunta utilizando Tavily o Wikipedia.\n",
    "        \n",
    "        Args:\n",
    "            pregunta (str): La pregunta a responder.\n",
    "            fuente (str): La fuente a consultar ('tavily' o 'wikipedia').\n",
    "        \n",
    "        Returns:\n",
    "            dict: Respuesta obtenida de la fuente seleccionada.\n",
    "        \"\"\"\n",
    "        if fuente == \"tavily\":\n",
    "            print(f\"Consultando en Tavily: {pregunta}\")\n",
    "            return self.tavily_tool.search(pregunta)\n",
    "        elif fuente == \"wikipedia\":\n",
    "            print(f\"Consultando en Wikipedia: {pregunta}\")\n",
    "            return self.wikipedia_tool.search(pregunta)\n",
    "        else:\n",
    "            return {\"error\": \"Fuente no reconocida. Use 'tavily' o 'wikipedia'.\"}\n",
    "\n",
    "# Instancias de las herramientas (usa tus claves y configuraciones aquí)\n",
    "tavily_tool = TavilySearchTool(api_key=\"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\")\n",
    "wikipedia_tool = WikipediaSearchTool(language=\"es\")\n",
    "\n",
    "# Creación del agente\n",
    "agente = AgenteBusqueda(tavily_tool=tavily_tool, wikipedia_tool=wikipedia_tool)\n",
    "\n",
    "# Ejemplo de uso\n",
    "if __name__ == \"__main__\":\n",
    "    pregunta = \"¿Cómo se usa la inteligencia artificial en la banca?\"\n",
    "    \n",
    "    # Respuesta de Tavily\n",
    "    respuesta_tavily = agente.responder(pregunta, fuente=\"tavily\")\n",
    "    print(\"Respuesta de Tavily:\")\n",
    "    print(respuesta_tavily)\n",
    "    \n",
    "    # Respuesta de Wikipedia\n",
    "    respuesta_wikipedia = agente.responder(pregunta, fuente=\"wikipedia\")\n",
    "    print(\"Respuesta de Wikipedia:\")\n",
    "    print(respuesta_wikipedia)\n"
   ]
  },
  {
   "cell_type": "markdown",
   "metadata": {
    "id": "dKV0JxK3r-XG"
   },
   "source": [
    "#### **2.2.4 Verificación de respuestas (0.3 puntos)**\n",
    "\n",
    "Pruebe el funcionamiento de su agente y asegúrese que el agente esté ocupando correctamente las tools disponibles. ¿En qué casos el agente debería ocupar la tool de Tavily? ¿En qué casos debería ocupar la tool de Wikipedia?"
   ]
  },
  {
   "cell_type": "code",
   "execution_count": 39,
   "metadata": {
    "id": "Pqo2dsxvywW_"
   },
   "outputs": [
    {
     "name": "stdout",
     "output_type": "stream",
     "text": [
      "Consultando en Tavily: ¿Qué bancos están usando ChatGPT para atención al cliente?\n",
      "\n",
      "Pregunta: ¿Qué bancos están usando ChatGPT para atención al cliente?\n",
      "Respuesta (tavily):\n",
      "{'query': '¿Qué bancos están usando ChatGPT para atención al cliente?', 'follow_up_questions': None, 'answer': None, 'images': [], 'results': [{'title': 'ChatGPT: qué es y cómo puede transformar las soluciones financieras', 'url': 'https://blog.cobistopaz.com/es/blog/como-el-chatgpt-puede-transformar-las-soluciones-financieras', 'content': 'Automatización de procesos y atención al cliente . ChatGPT puede manejar las consultas de los clientes de manera automática, proporcionando respuestas precisas y automatizadas. ... Por esta razón, aseguran que están usando la API de moderación para bloquear algunos tipos de contenido inseguro. Asimismo, hay momentos en que el chatbot', 'score': 0.9994185, 'raw_content': None}, {'title': 'Sí, las empresas ya están usando ChatGPT para ... - Forbes Ecuador', 'url': 'https://www.forbes.com.ec/innovacion/si-empresas-ya-estan-usando-chatgpt-atender-sus-clientes-n27791', 'content': 'Meta, Canva y Shopify, entre otras empresas, ya están utilizando la tecnología que sustenta a ChatGPT en sus chatbots de atención al cliente. 9 Enero de 2023 11.05. Desde el procesamiento de la devolución de un pedido en Shopify hasta el restablecimiento de una contraseña para una cuenta de Canva, es probable que el chatbot con el que', 'score': 0.9982926, 'raw_content': None}, {'title': 'Uso de ChatGPT en los bancos y otras entidades financieras', 'url': 'https://www.juancmejia.com/transformacion-digital/uso-de-chatgpt-en-los-bancos-y-otras-entidades-financieras/', 'content': 'Las entidades financieras han sido pioneras en la adopción de tecnología de vanguardia para proporcionar un mejor servicio al cliente y cumplir con los requisitos del negocio. Con el auge de la inteligencia artificial, los bancos ahora pueden aprovechar herramientas generativas de lenguaje como ChatGPT para mejorar la productividad, agilizar las operaciones, ofrecer préstamos rápidos y', 'score': 0.99824536, 'raw_content': None}, {'title': 'ChatGPT puede ser tu próximo asistente de atención a cliente en México ...', 'url': 'https://www.xataka.com.mx/robotica-e-ia/chatgpt-puede-ser-tu-proximo-asistente-atencion-a-cliente-mexico-santander-usa-cada-vez-empresas-usaran', 'content': 'Sin embargo, el chatbot tiene limitaciones, ya que está diseñado únicamente para orientar a los clientes, y cuando se requiere información sobre cuentas, un ejecutivo toma las riendas a través de una llamada telefónica para validar la identidad del usuario.. Antes de implementarlo, revela Herrera, Santander entrenó a ChatGPT en 25 categorías diferentes, a partir de los temas más', 'score': 0.99621993, 'raw_content': None}, {'title': '6 usos de ChatGPT para servicio al cliente - InvGate', 'url': 'https://blog.invgate.com/es/chatgpt-para-servicio-al-cliente', 'content': 'Aquí tienes seis formas de utilizar ChatGPT para servicio de atención al cliente. 1. Responder a las quejas de los clientes. ChatGPT es perfecto a la hora de responder a las críticas negativas que aparecen en la sección de comentarios. La IA es capaz de contestar en forma correcta o, al menos, ofrecer algo similar a lo que buscas.', 'score': 0.994292, 'raw_content': None}, {'title': 'Qué es ChatGPT y qué puede y no puede hacer (a día de hoy) - BBVA', 'url': 'https://www.bbva.com/es/innovacion/que-es-chatgpt-y-que-puede-y-no-puede-hacer-a-dia-de-hoy/', 'content': \"ChatGPT también puede ser un valioso aliado en la atención al cliente, con 'chatbots' y asistentes virtuales que respondan e interactúen de manera rápida y natural. A ello se suma la capacidad de esta herramienta para analizar grandes cantidades de texto, datos, mensajes, vídeos e interacciones con los usuarios.\", 'score': 0.9941801, 'raw_content': None}, {'title': '10 formas en que Chat-GPT puede revolucionar los bancos', 'url': 'https://london-data-consulting.com/es/10-formas-en-que-chat-gpt-puede-revolucionar-los-bancos/', 'content': '1. Mejorar el servicio al cliente. Una de las áreas clave en las que Chat-GPT puede revolucionar a los bancos es en el servicio al cliente. Esta herramienta impulsada por IA puede proporcionar respuestas instantáneas a las consultas de los clientes, reduciendo los tiempos de espera y ofreciendo servicios las 24 horas del día, los 7 días de', 'score': 0.9939261, 'raw_content': None}, {'title': 'BBVA logra una explosión de innovación entre sus empleados con el ...', 'url': 'https://www.bbva.com/es/innovacion/bbva-logra-una-explosion-de-innovacion-entre-sus-empleados-con-el-despliegue-de-chatgpt-enterprise/', 'content': 'El banco comenzó en mayo de 2024 a desplegar las 3.000 licencias de ChatGPT Enterprise en todos los niveles de la organización. Solo cinco meses después, un 83% de estos usuarios utilizan la herramienta semanalmente y han creado casi 3.000 GPT (espacios dentro de ChatGPT configurados para tareas específicas), una cifra que crece cada semana. De ellos, 700 están disponibles en un GPT Store', 'score': 0.9917163, 'raw_content': None}, {'title': 'Los 10 usos que ChatGPT ofrece al sector bancario - elEconomista.es', 'url': 'https://www.eleconomista.es/banca-finanzas/noticias/12182807/03/23/Los-10-usos-que-ChatGPT-ofrece-al-sector-bancario-.html', 'content': 'Forbes ha recogido 10 posibles usos que se le podría dar a este sistema: 1. Servicio al consumidor. A través de chatbots, los bancos pueden ofrecer soporte las 24 horas. Una herramienta que ya', 'score': 0.9905509, 'raw_content': None}, {'title': 'Futuro digital: El rol de ChatGPT en el servicio al cliente - El Economista', 'url': 'https://www.eleconomista.com.mx/los-especiales/Futuro-digital-El-rol-de-ChatGPT-en-el-servicio-al-cliente-20240508-0019.html', 'content': 'La directiva explicó que la gran aportación de incorporar ChatGPT en el bot de atención para los clientes en Facebook es precisamente la capacidad de personalizar las respuestas a cada cliente', 'score': 0.9828892, 'raw_content': None}], 'response_time': 2.5}\n",
      "Consultando en Wikipedia: ¿Qué son los modelos de lenguaje en inteligencia artificial?\n",
      "\n",
      "Pregunta: ¿Qué son los modelos de lenguaje en inteligencia artificial?\n",
      "Respuesta (wikipedia):\n",
      "{'batchcomplete': '', 'continue': {'sroffset': 10, 'continue': '-||'}, 'query': {'searchinfo': {'totalhits': 561}, 'search': [{'ns': 0, 'title': 'Inteligencia artificial', 'pageid': 1503, 'size': 115521, 'wordcount': 13861, 'snippet': 'La <span class=\"searchmatch\">inteligencia</span> <span class=\"searchmatch\">artificial</span> (IA), <span class=\"searchmatch\">en</span> el contexto <span class=\"searchmatch\">de</span> las ciencias <span class=\"searchmatch\">de</span> la computación, es una disciplina y un conjunto <span class=\"searchmatch\">de</span> capacidades cognoscitivas e intelectuales', 'timestamp': '2024-11-13T21:07:26Z'}, {'ns': 0, 'title': 'Alineación de la inteligencia artificial', 'pageid': 10355780, 'size': 84031, 'wordcount': 9430, 'snippet': 'de buscar formas <span class=\"searchmatch\">de</span> dirigir el desarrollo <span class=\"searchmatch\">de</span> <span class=\"searchmatch\">los</span> sistemas <span class=\"searchmatch\">de</span> <span class=\"searchmatch\">inteligencia</span> <span class=\"searchmatch\">artificial</span> <span class=\"searchmatch\">en</span> conformidad con <span class=\"searchmatch\">los</span> objetivos e intereses <span class=\"searchmatch\">de</span> sus diseñadores.[a]\\u200bSi', 'timestamp': '2024-05-11T15:16:52Z'}, {'ns': 0, 'title': 'Inteligencia artificial general', 'pageid': 3445898, 'size': 26063, 'wordcount': 2370, 'snippet': 'La <span class=\"searchmatch\">inteligencia</span> <span class=\"searchmatch\">artificial</span> general (IAG, <span class=\"searchmatch\">en</span> inglés AGI), también llamada <span class=\"searchmatch\">inteligencia</span> general <span class=\"searchmatch\">artificial</span> e <span class=\"searchmatch\">inteligencia</span> <span class=\"searchmatch\">artificial</span> fuerte,[2]\\u200bes un tipo', 'timestamp': '2024-10-10T15:02:35Z'}, {'ns': 0, 'title': 'Inteligencia artificial en el campo de la salud', 'pageid': 8764699, 'size': 30012, 'wordcount': 3496, 'snippet': 'La <span class=\"searchmatch\">Inteligencia</span> <span class=\"searchmatch\">Artificial</span> (IA) aplicada al campo <span class=\"searchmatch\">de</span> la salud se basa <span class=\"searchmatch\">en</span> la utilización <span class=\"searchmatch\">de</span> algoritmos y técnicas <span class=\"searchmatch\">de</span> software para predecir la cognición', 'timestamp': '2024-06-21T11:45:37Z'}, {'ns': 0, 'title': 'Ética en la inteligencia artificial', 'pageid': 7340488, 'size': 76285, 'wordcount': 9757, 'snippet': 'ética <span class=\"searchmatch\">en</span> la <span class=\"searchmatch\">inteligencia</span> <span class=\"searchmatch\">artificial</span> es una rama <span class=\"searchmatch\">de</span> la ética dirigida a la existencia <span class=\"searchmatch\">de</span> robots inteligentes o cualquier otro ente que posea <span class=\"searchmatch\">inteligencia</span> artificial', 'timestamp': '2024-10-22T18:01:24Z'}, {'ns': 0, 'title': 'Seguridad de la inteligencia artificial', 'pageid': 10598261, 'size': 72910, 'wordcount': 9645, 'snippet': 'uso <span class=\"searchmatch\">de</span> sistemas <span class=\"searchmatch\">de</span> <span class=\"searchmatch\">inteligencia</span> <span class=\"searchmatch\">artificial</span> (IA). Abarca la ética <span class=\"searchmatch\">de</span> las máquinas y la alineación <span class=\"searchmatch\">de</span> la IA, cuyo objetivo es hacer que <span class=\"searchmatch\">los</span> sistemas <span class=\"searchmatch\">de</span> IA', 'timestamp': '2024-11-20T03:40:48Z'}, {'ns': 0, 'title': 'Inteligencia artificial multimodal', 'pageid': 10791677, 'size': 11498, 'wordcount': 1410, 'snippet': '<span class=\"searchmatch\">inteligencia</span> <span class=\"searchmatch\">artificial</span> multimodal, también conocida como IA multimodal, es un tipo <span class=\"searchmatch\">de</span> <span class=\"searchmatch\">inteligencia</span> <span class=\"searchmatch\">artificial</span> que puede procesar e integrar datos <span class=\"searchmatch\">de</span>', 'timestamp': '2024-06-20T15:00:56Z'}, {'ns': 0, 'title': 'Inteligencia artificial generativa', 'pageid': 10545139, 'size': 33689, 'wordcount': 3514, 'snippet': 'La <span class=\"searchmatch\">inteligencia</span> <span class=\"searchmatch\">artificial</span> generativa o IA generativa es un tipo <span class=\"searchmatch\">de</span> sistema <span class=\"searchmatch\">de</span> <span class=\"searchmatch\">inteligencia</span> <span class=\"searchmatch\">artificial</span> (IA) capaz <span class=\"searchmatch\">de</span> generar texto, imágenes u otros medios', 'timestamp': '2024-11-20T17:55:59Z'}, {'ns': 0, 'title': 'Sora (inteligencia artificial)', 'pageid': 10801465, 'size': 11665, 'wordcount': 1340, 'snippet': 'es un <span class=\"searchmatch\">modelo</span> <span class=\"searchmatch\">de</span> <span class=\"searchmatch\">inteligencia</span> <span class=\"searchmatch\">artificial</span> <span class=\"searchmatch\">de</span> texto a vídeo y multimodal desarrollado por OpenAI que permite generar vídeos realistas a partir <span class=\"searchmatch\">de</span> descripciones', 'timestamp': '2024-04-20T18:18:12Z'}, {'ns': 0, 'title': 'Procesamiento de lenguajes naturales', 'pageid': 40586, 'size': 13598, 'wordcount': 1472, 'snippet': 'computación, <span class=\"searchmatch\">de</span> la <span class=\"searchmatch\">inteligencia</span> <span class=\"searchmatch\">artificial</span> y <span class=\"searchmatch\">de</span> la lingüística que estudia las interacciones entre las computadoras y el <span class=\"searchmatch\">lenguaje</span> humano, así como <span class=\"searchmatch\">los</span> detalles', 'timestamp': '2024-07-20T11:14:00Z'}]}}\n",
      "Consultando en Tavily: ¿Cómo se utiliza la IA en la agricultura?\n",
      "\n",
      "Pregunta: ¿Cómo se utiliza la IA en la agricultura?\n",
      "Respuesta (tavily):\n",
      "{'query': '¿Cómo se utiliza la IA en la agricultura?', 'follow_up_questions': None, 'answer': None, 'images': [], 'results': [{'title': 'Inteligencia artificial: ¿cómo podría transformar la agricultura?', 'url': 'https://alliancebioversityciat.org/es/stories/inteligencia-artificial-como-podria-transformar-agricultura', 'content': 'Tres proyectos en curso de la Alianza que recurren a la IA son\\xa0Tumaini (una aplicación para teléfonos inteligentes que permite a los cultivadores de banano resolver el 90% de las principales enfermedades y plagas),\\xa0Melisa (un chatbot que calcula el rendimiento del maíz y el trigo de los agricultores colombianos basándose en predicciones meteorológicas a largo plazo, variedades de suelo y cultivo, y fechas de siembra), y Artemis (sistemas tecnológicos de visión por ordenador que permiten a los mejoradores de cultivos desarrollar variedades adaptadas localmente y resilientes al clima). Además de la supervisión de cultivos y los servicios de asesoramiento, otro ejemplo prometedor de IA en la agricultura es la instalación de sensores subterráneos de humedad del suelo que podrían permitir a los agricultores estimar las necesidades de riego, ayudándoles así a utilizar los recursos de forma eficiente.', 'score': 0.99957615, 'raw_content': None}, {'title': 'Cómo se aplica la IA en la agricultura y algunos ejemplos', 'url': 'https://www.cafi.org.ar/como-se-aplica-la-ia-en-la-agricultura-y-algunos-ejemplos/', 'content': 'A continuación, se exploran las aplicaciones de la IA en la agricultura y se proporcionan algunos ejemplos concretos de su implementación. Aplicaciones de la Inteligencia Artificial en la agricultura 1. Monitoreo de cultivos y análisis de suelo. La IA permite el monitoreo preciso de los cultivos y el análisis del suelo a través de', 'score': 0.999445, 'raw_content': None}, {'title': 'Cómo la IA puede ayudar en la agricultura: cinco aplicaciones y casos ...', 'url': 'https://ichi.pro/es/como-la-ia-puede-ayudar-en-la-agricultura-cinco-aplicaciones-y-casos-de-uso-264553841764041', 'content': 'Las aplicaciones de la IA en la agricultura se expandieron para realizar una agricultura precisa y controlada al proporcionar una orientación adecuada a los agricultores sobre la siembra óptima, el manejo del agua, la rotación de cultivos, la cosecha oportuna, el manejo de nutrientes y los ataques de plagas. Las empresas involucradas en mejorar el aprendizaje automático o los productos o servicios basados \\u200b\\u200ben inteligencia artificial, como los datos de capacitación para la agricultura , los drones y la fabricación de máquinas automatizadas, obtendrán avances tecnológicos en el futuro, proporcionarán las aplicaciones más útiles para este sector, ayudando al mundo a lidiar con los problemas de producción de alimentos para el población creciente.', 'score': 0.9993148, 'raw_content': None}, {'title': 'Cómo se aplica la IA en la agricultura y algunos ejemplos', 'url': 'https://www.portalfruticola.com/noticias/2024/05/27/como-se-aplica-la-ia-en-la-agricultura-y-algunos-ejemplos/', 'content': 'La inteligencia artificial (IA) ha emergido como una de las tecnologías más transformadoras en la agricultura moderna, ofreciendo soluciones innovadoras para mejorar la eficiencia, productividad y sostenibilidad del sector agrícola. Estos sistemas utilizan sensores de humedad del suelo y datos climáticos para optimizar el uso del agua, lo que es especialmente crucial en regiones afectadas por la escasez de agua. AgroSmart es una startup brasileña que ofrece soluciones basadas en la IA para el monitoreo de cultivos y la gestión del agua. Al optimizar el uso de insumos y reducir las pérdidas por plagas y enfermedades, la IA puede ayudar a reducir los costos operativos para los agricultores.', 'score': 0.9989556, 'raw_content': None}, {'title': 'INTELIGENCIA ARTIFICIAL EN LA AGRICULTURA - Universidad Agrícola', 'url': 'https://universidadagricola.com/inteligencia-artificial-en-la-agricultura/', 'content': 'COMO LA AGRICULTURA CAMBIA GRACIAS A LA INTELIGENCIA ARTIFICIAL. Algunos ejemplos de las aplicaciones de la IA en este campo: La inteligencia artificial ayuda a las maquinarias agrícolas a tener una gran precisión: les permite identificar y tomar decisiones de gestión sobre el terreno, incluso según las necesidades de cada planta.', 'score': 0.9980882, 'raw_content': None}, {'title': 'Inteligencia artificial: ¿Cómo podría transformar la agricultura?', 'url': 'https://www.agronet.gov.co/Noticias/Paginas/Inteligencia-artificial-¿Cómo-podría-transformar-la-agricultura.aspx', 'content': 'Tres proyectos de la Alianza en curso que se basan en IA incluyen: Tumaini (una aplicación para teléfonos inteligentes que permite a los productores de banano resolver el 90% de las principales enfermedades y plagas); Melisa (un chatbot que estima el rendimiento de maíz y trigo de los agricultores colombianos en función de las predicciones', 'score': 0.9976769, 'raw_content': None}, {'title': 'El papel de la inteligencia artificial en la modernización del sector ...', 'url': 'https://mundoagropecuario.com/el-papel-de-la-inteligencia-artificial-en-la-modernizacion-del-sector-agropecuario/', 'content': '(Redacción Mundo Agropecuario).-Uno de los campos que ha experimentado una revolución profunda gracias a la IA es el sector agropecuario. La combinación de datos, sensores, algoritmos y aprendizaje automático ha abierto nuevas oportunidades para mejorar la productividad, eficiencia y sostenibilidad de la producción agrícola y ganadera. En este artículo, exploraremos cómo la', 'score': 0.99549675, 'raw_content': None}, {'title': 'Cinco aplicaciones de la inteligencia artificial en agricultura', 'url': 'https://www.plataformatierra.es/innovacion/IA-inteligencia-artificial-aplicaciones', 'content': 'La expansión de las nuevas categorías de inteligencia artificial ha permitido expandir las funcionalidades de los sistemas de detección por modelos capaces diagnosticar, a partir de una fotografía, el cuadro del síntomas del vegetal, junto con las alternativas disponibles para su control. Con ello, se dota a los agentes de instrumentos útiles para poder aplicar una agricultura basada en el conocimiento y la eficiencia. Por ello, tiene una importancia capital efectuar un análisis económico para determinar la viabilidad de la operación, el cual debe combinarse con un análisis de necesidades ante la oferta diversa de productos y servicios tecnológicos que existe, seleccionando aquellos equipos que más se adapten a las necesidades de los productores.', 'score': 0.9947187, 'raw_content': None}, {'title': 'Artificial Intelligence (AI) in Agriculture: Where are we and what can ...', 'url': 'https://blog.iica.int/en/blog/artificial-intelligence-ai-agriculture-where-are-we-and-what-can-we-expect-es', 'content': 'No menos importante, en un mapeo de agtechs que realizamos recientemente desde el Programa de Digitalización Agroalimentaria del Instituto Interamericano de Cooperación para la Agricultura (IICA), identificamos más de 35 agtechs que -verdaderamente- utilizan alguna de las ramas de la IA como parte del desarrollo de sus soluciones.', 'score': 0.99178034, 'raw_content': None}, {'title': '¿Cómo influye la inteligencia artificial en la agricultura?', 'url': 'https://www.telefonica.com/es/sala-comunicacion/blog/como-influye-inteligencia-artificial-agricultura/', 'content': 'Si hablamos de inteligencia artificial y agricultura en nuestro país, no podemos dejar de citar a Agerpix, empresa que desarrolla soluciones de agricultura de precisión. Son pioneros en desarrollar un sistema de herramientas de inteligencia artificial capaces de detectar, con una precisión del 90-95 %, la cantidad de fruto en las plantaciones.', 'score': 0.99040353, 'raw_content': None}], 'response_time': 2.3}\n",
      "Consultando en Wikipedia: ¿Quién es Alan Turing y cuál fue su contribución a la IA?\n",
      "\n",
      "Pregunta: ¿Quién es Alan Turing y cuál fue su contribución a la IA?\n",
      "Respuesta (wikipedia):\n",
      "{'batchcomplete': '', 'query': {'searchinfo': {'totalhits': 0}, 'search': []}}\n"
     ]
    }
   ],
   "source": [
    "if __name__ == \"__main__\":\n",
    "    # Lista de preguntas para probar\n",
    "    preguntas = [\n",
    "        {\"pregunta\": \"¿Qué bancos están usando ChatGPT para atención al cliente?\", \"fuente\": \"tavily\"},\n",
    "        {\"pregunta\": \"¿Qué son los modelos de lenguaje en inteligencia artificial?\", \"fuente\": \"wikipedia\"},\n",
    "        {\"pregunta\": \"¿Cómo se utiliza la IA en la agricultura?\", \"fuente\": \"tavily\"},\n",
    "        {\"pregunta\": \"¿Quién es Alan Turing y cuál fue su contribución a la IA?\", \"fuente\": \"wikipedia\"}\n",
    "    ]\n",
    "\n",
    "    # Iterar sobre las preguntas y obtener respuestas\n",
    "    for consulta in preguntas:\n",
    "        respuesta = agente.responder(consulta[\"pregunta\"], consulta[\"fuente\"])\n",
    "        print(f\"\\nPregunta: {consulta['pregunta']}\\nRespuesta ({consulta['fuente']}):\\n{respuesta}\")\n"
   ]
  },
  {
   "cell_type": "markdown",
   "metadata": {},
   "source": [
    "\n",
    "El agente selecciona correctamente la herramienta según la naturaleza de la consulta:\n",
    "\n",
    "Tavily: Para temas prácticos, actuales y con necesidad de información variada y reciente.\n",
    "Wikipedia: Para definiciones teóricas, históricas y académicas.\n",
    "Casos específicos de uso:\n",
    "\n",
    "Use Tavily para preguntas como \"¿Qué empresas usan IA para [x]?\" o \"¿Cómo se aplica la IA en [sector]?\".\n",
    "Use Wikipedia para definiciones, biografías, o historia como \"¿Qué es IA débil?\" o \"¿Qué aportó Alan Turing a la IA?\"."
   ]
  },
  {
   "cell_type": "markdown",
   "metadata": {
    "id": "cZbDTYiogquv"
   },
   "source": [
    "### **2.3 Multi Agente (1.5 puntos)**\n",
    "\n",
    "<p align=\"center\">\n",
    "  <img src=\"https://media1.tenor.com/m/r7QMJLxU4BoAAAAd/this-is-getting-out-of-hand-star-wars.gif\"\n",
    "\" width=\"450\">\n",
    "</p>\n",
    "\n",
    "El objetivo de esta subsección es encapsular las funcionalidades creadas en una solución multiagente con un **supervisor**.\n"
   ]
  },
  {
   "cell_type": "markdown",
   "metadata": {
    "id": "7-iUfH0WvI6m"
   },
   "source": [
    "#### **2.3.1 Generando Tools (0.5 puntos)**\n",
    "\n",
    "Transforme la solución RAG de la sección 2.1 y el agente de la sección 2.2 a *tools* (una tool por cada uno)."
   ]
  },
  {
   "cell_type": "code",
   "execution_count": null,
   "metadata": {
    "id": "pw1cfTtvv1AZ"
   },
   "outputs": [],
   "source": [
    "from langchain.tools import BaseTool\n",
    "\n",
    "class RAGTool(BaseTool):\n",
    "    \"\"\"Tool para el sistema RAG basado en los documentos cargados.\"\"\"\n",
    "    name = \"rag_tool\"\n",
    "    description = \"Responde preguntas basadas en los documentos cargados y vectorizados en la solución RAG.\"\n",
    "\n",
    "    def __init__(self, retriever_chain):\n",
    "        self.retriever_chain = retriever_chain\n",
    "\n",
    "    def _run(self, query: str):\n",
    "        \"\"\"Ejecuta el RAG y devuelve una respuesta.\"\"\"\n",
    "        try:\n",
    "            return self.retriever_chain.invoke(query)\n",
    "        except Exception as e:\n",
    "            return f\"Error en la herramienta RAG: {e}\"\n",
    "\n",
    "    async def _arun(self, query: str):\n",
    "        \"\"\"Versión asincrónica (por si se necesita más adelante).\"\"\"\n",
    "        raise NotImplementedError(\"RAGTool no soporta ejecución asincrónica.\")\n"
   ]
  },
  {
   "cell_type": "code",
   "execution_count": null,
   "metadata": {},
   "outputs": [],
   "source": [
    "class MultiSearchTool(BaseTool):\n",
    "    \"\"\"Tool para realizar búsquedas en Tavily o Wikipedia.\"\"\"\n",
    "    name = \"multi_search_tool\"\n",
    "    description = \"Busca información usando Tavily o Wikipedia según la naturaleza de la consulta.\"\n",
    "\n",
    "    def __init__(self, tavily_tool, wikipedia_tool):\n",
    "        self.tavily_tool = tavily_tool\n",
    "        self.wikipedia_tool = wikipedia_tool\n",
    "\n",
    "    def _run(self, query: dict):\n",
    "        \"\"\"Ejecuta la búsqueda según la fuente especificada.\"\"\"\n",
    "        pregunta = query.get(\"pregunta\")\n",
    "        fuente = query.get(\"fuente\", \"tavily\")\n",
    "        if not pregunta:\n",
    "            return \"Error: La pregunta es requerida.\"\n",
    "        \n",
    "        try:\n",
    "            if fuente == \"tavily\":\n",
    "                return self.tavily_tool.search(pregunta)\n",
    "            elif fuente == \"wikipedia\":\n",
    "                return self.wikipedia_tool.search(pregunta)\n",
    "            else:\n",
    "                return \"Error: Fuente no reconocida. Use 'tavily' o 'wikipedia'.\"\n",
    "        except Exception as e:\n",
    "            return f\"Error en MultiSearchTool: {e}\"\n",
    "\n",
    "    async def _arun(self, query: dict):\n",
    "        \"\"\"Versión asincrónica.\"\"\"\n",
    "        raise NotImplementedError(\"MultiSearchTool no soporta ejecución asincrónica.\")\n"
   ]
  },
  {
   "cell_type": "markdown",
   "metadata": {
    "id": "HQYNjT_0vPCg"
   },
   "source": [
    "#### **2.3.2 Agente Supervisor (0.5 puntos)**\n",
    "\n",
    "Habilite un agente que tenga acceso a las tools del punto anterior y pueda responder preguntas relacionadas. Almacene este agente en una variable llamada supervisor."
   ]
  },
  {
   "cell_type": "code",
   "execution_count": null,
   "metadata": {
    "id": "yv2ZY0BAv1RD"
   },
   "outputs": [],
   "source": [
    "from langchain.agents import initialize_agent, Tool\n",
    "from langchain_core.prompts import PromptTemplate\n",
    "from langchain_core.output_parsers import StrOutputParser\n",
    "\n",
    "# Definir tools\n",
    "rag_tool = RAGTool(retriever_chain=rag_chain1)  # Usamos la RAG creada previamente\n",
    "multi_search_tool = MultiSearchTool(tavily_tool=tavily_tool, wikipedia_tool=wikipedia_tool)\n",
    "\n",
    "tools = [\n",
    "    Tool(name=\"RAGTool\", func=rag_tool._run, description=rag_tool.description),\n",
    "    Tool(name=\"MultiSearchTool\", func=multi_search_tool._run, description=multi_search_tool.description)\n",
    "]\n",
    "\n",
    "# Prompt del agente supervisor\n",
    "supervisor_prompt = PromptTemplate.from_template(\"\"\"\n",
    "Eres un agente supervisor que tiene acceso a varias herramientas:\n",
    "1. RAGTool para responder preguntas basadas en documentos cargados.\n",
    "2. MultiSearchTool para buscar en Tavily o Wikipedia.\n",
    "\n",
    "Para cada consulta, selecciona la herramienta adecuada y proporciona una respuesta clara y concisa.\n",
    "\n",
    "Pregunta: {input}\n",
    "\"\"\")\n",
    "\n",
    "# Inicializar el agente supervisor\n",
    "supervisor = initialize_agent(\n",
    "    tools=tools,\n",
    "    llm=llm,\n",
    "    agent=\"zero-shot-react-description\",\n",
    "    prompt=supervisor_prompt,\n",
    "    output_parser=StrOutputParser(),\n",
    ")\n"
   ]
  },
  {
   "cell_type": "markdown",
   "metadata": {
    "id": "ea3zWlvyvY7K"
   },
   "source": [
    "#### **2.3.3 Verificación de respuestas (0.25 puntos)**\n",
    "\n",
    "Pruebe el funcionamiento de su agente repitiendo las preguntas realizadas en las secciones 2.1.4 y 2.2.4 y comente sus resultados. ¿Cómo varían las respuestas bajo este enfoque?"
   ]
  },
  {
   "cell_type": "code",
   "execution_count": null,
   "metadata": {
    "id": "6_1t0zkgv1qW"
   },
   "outputs": [],
   "source": [
    "preguntas = [\n",
    "    \"¿Cuáles son los principios fundamentales que establece la Constitución de 1925 en cuanto a la organización del Estado y la soberanía?\",  # RAG\n",
    "    \"¿Qué establece la Constitución de 1925 sobre la responsabilidad del Estado hacia la salud pública?\",  # RAG\n",
    "    \"¿Qué derechos de libre tránsito establece la Constitución de 1925?\",  # RAG\n",
    "    {\"pregunta\": \"¿Qué bancos están usando ChatGPT para atención al cliente?\", \"fuente\": \"tavily\"},  # MultiSearch\n",
    "    {\"pregunta\": \"¿Qué son los modelos de lenguaje en inteligencia artificial?\", \"fuente\": \"wikipedia\"},  # MultiSearch\n",
    "]\n",
    "\n",
    "# Ejecutar pruebas\n",
    "for pregunta in preguntas:\n",
    "    print(\"\\n----------------------------\")\n",
    "    if isinstance(pregunta, dict):\n",
    "        respuesta = supervisor.invoke({\"input\": pregunta})\n",
    "    else:\n",
    "        respuesta = supervisor.invoke({\"input\": pregunta})\n",
    "    print(f\"Pregunta: {pregunta}\\nRespuesta: {respuesta}\")\n"
   ]
  },
  {
   "cell_type": "markdown",
   "metadata": {
    "id": "Qb8bdAmYvgwn"
   },
   "source": [
    "#### **2.3.4 Análisis (0.25 puntos)**\n",
    "\n",
    "¿Qué diferencias tiene este enfoque con la solución *Router* vista en clases? Nombre al menos una ventaja y desventaja."
   ]
  },
  {
   "cell_type": "markdown",
   "metadata": {
    "id": "YAUlJxqoLK5r"
   },
   "source": [
    "`escriba su respuesta acá`"
   ]
  },
  {
   "cell_type": "markdown",
   "metadata": {
    "id": "4JWVSuWiZ8Mj"
   },
   "source": [
    "### **2.4 Memoria (Bonus +0.5 puntos)**\n",
    "\n",
    "<p align=\"center\">\n",
    "  <img src=\"https://media1.tenor.com/m/Gs95aiElrscAAAAd/memory-unlocked-ratatouille-critic.gif\"\n",
    "\" width=\"400\">\n",
    "</p>\n",
    "\n",
    "Una de las principales falencias de las soluciones que hemos visto hasta ahora es que nuestro chat no responde las interacciones anteriores, por ejemplo:\n",
    "\n",
    "- Pregunta 1: \"Hola! mi nombre es Sebastián\"\n",
    "  - Respuesta esperada: \"Hola Sebastián! ...\"\n",
    "- Pregunta 2: \"Cual es mi nombre?\"\n",
    "  - Respuesta actual: \"Lo siento pero no conozco tu nombre :(\"\n",
    "  - **Respuesta esperada: \"Tu nombre es Sebastián\"**\n",
    "\n",
    "Para solucionar esto, se les solicita agregar un componente de **memoria** a la solución entregada en el punto 2.3.\n",
    "\n",
    "**Nota: El Bonus es válido <u>sólo para la sección 2 de Large Language Models.</u>**"
   ]
  },
  {
   "cell_type": "code",
   "execution_count": null,
   "metadata": {
    "id": "K6Y7tIPJLPfB"
   },
   "outputs": [],
   "source": []
  },
  {
   "cell_type": "markdown",
   "metadata": {
    "id": "vFc3jBT5g0kT"
   },
   "source": [
    "### **2.5 Despliegue (0 puntos)**\n",
    "\n",
    "<p align=\"center\">\n",
    "  <img src=\"https://media1.tenor.com/m/IytHqOp52EsAAAAd/you-get-a-deploy-deploy.gif\"\n",
    "\" width=\"400\">\n",
    "</p>\n",
    "\n",
    "Una vez tengan los puntos anteriores finalizados, toca la etapa de dar a conocer lo que hicimos! Para eso, vamos a desplegar nuestro modelo a través de `gradio`, una librería especializada en el levantamiento rápido de demos basadas en ML.\n",
    "\n",
    "Primero instalamos la librería:"
   ]
  },
  {
   "cell_type": "code",
   "execution_count": null,
   "metadata": {
    "id": "T8TsvnCPbkIA"
   },
   "outputs": [],
   "source": [
    "%pip install --upgrade --quiet gradio"
   ]
  },
  {
   "cell_type": "markdown",
   "metadata": {
    "id": "HJBztEUovKsF"
   },
   "source": [
    "Luego sólo deben ejecutar el siguiente código e interactuar con la interfaz a través del notebook o del link generado:"
   ]
  },
  {
   "cell_type": "code",
   "execution_count": null,
   "metadata": {
    "id": "Z3KedQSvg1-n"
   },
   "outputs": [],
   "source": [
    "import gradio as gr\n",
    "import time\n",
    "\n",
    "def agent_response(message, history):\n",
    "  '''\n",
    "  Función para gradio, recibe mensaje e historial, devuelte la respuesta del chatbot.\n",
    "  '''\n",
    "  # get chatbot response\n",
    "  response = ... # rellenar con la respuesta de su chat\n",
    "\n",
    "  # assert\n",
    "  assert type(response) == str, \"output de route_question debe ser string\"\n",
    "\n",
    "  # \"streaming\" response\n",
    "  for i in range(len(response)):\n",
    "    time.sleep(0.015)\n",
    "    yield response[: i+1]\n",
    "\n",
    "gr.ChatInterface(\n",
    "    agent_response,\n",
    "    type=\"messages\",\n",
    "    title=\"Chatbot MDS7202\", # Pueden cambiar esto si lo desean\n",
    "    description=\"Hola! Soy un chatbot muy útil :)\", # también la descripción\n",
    "    theme=\"soft\",\n",
    "    ).launch(\n",
    "        share=True, # pueden compartir el link a sus amig@s para que interactuen con su chat!\n",
    "        debug = False,\n",
    "        )"
   ]
  }
 ],
 "metadata": {
  "colab": {
   "provenance": [],
   "toc_visible": true
  },
  "kernelspec": {
   "display_name": "base",
   "language": "python",
   "name": "python3"
  },
  "language_info": {
   "codemirror_mode": {
    "name": "ipython",
    "version": 3
   },
   "file_extension": ".py",
   "mimetype": "text/x-python",
   "name": "python",
   "nbconvert_exporter": "python",
   "pygments_lexer": "ipython3",
   "version": "3.12.3"
  }
 },
 "nbformat": 4,
 "nbformat_minor": 0
}
