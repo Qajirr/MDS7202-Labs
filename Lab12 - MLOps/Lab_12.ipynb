{
 "cells": [
  {
   "cell_type": "markdown",
   "metadata": {
    "id": "SDZmp2BO9KnQ"
   },
   "source": [
    "# **Laboratorio 12: 🚀 Despliegue 🚀**\n",
    "\n",
    "<center><strong>MDS7202: Laboratorio de Programación Científica para Ciencia de Datos</strong></center>\n",
    "\n",
    "### **Cuerpo Docente:**\n",
    "\n",
    "- Profesores: Ignacio Meza, Sebastián Tinoco\n",
    "- Auxiliar: Eduardo Moya\n",
    "- Ayudantes: Nicolás Ojeda, Melanie Peña, Valentina Rojas"
   ]
  },
  {
   "cell_type": "markdown",
   "metadata": {
    "id": "FdGqUgwX9pGQ"
   },
   "source": [
    "### Equipo: SUPER IMPORTANTE - notebooks sin nombre no serán revisados\n",
    "\n",
    "- Nombre de alumno 1:\n",
    "- Nombre de alumno 2:\n",
    "\n",
    "### **Link de repositorio de GitHub:** [Insertar Repositorio](https://github.com/...../)"
   ]
  },
  {
   "cell_type": "markdown",
   "metadata": {
    "id": "YraSOKrf9yMl"
   },
   "source": [
    "## Temas a tratar\n",
    "\n",
    "- Entrenamiento y registro de modelos usando MLFlow.\n",
    "- Despliegue de modelo usando FastAPI\n",
    "- Containerización del proyecto usando Docker\n",
    "\n",
    "## Reglas:\n",
    "\n",
    "- **Grupos de 2 personas**\n",
    "- Cualquier duda fuera del horario de clases al foro. Mensajes al equipo docente serán respondidos por este medio.\n",
    "- Prohibidas las copias.\n",
    "- Pueden usar cualquer matrial del curso que estimen conveniente.\n",
    "\n",
    "### Objetivos principales del laboratorio\n",
    "\n",
    "- Generar una solución a un problema a partir de ML\n",
    "- Desplegar su solución usando MLFlow, FastAPI y Docker\n",
    "\n",
    "El laboratorio deberá ser desarrollado sin el uso indiscriminado de iteradores nativos de python (aka \"for\", \"while\"). La idea es que aprendan a exprimir al máximo las funciones optimizadas que nos entrega `pandas`, las cuales vale mencionar, son bastante más eficientes que los iteradores nativos sobre DataFrames."
   ]
  },
  {
   "cell_type": "markdown",
   "metadata": {
    "id": "D98okEzUE8hb"
   },
   "source": [
    "# **Introducción**"
   ]
  },
  {
   "cell_type": "markdown",
   "metadata": {
    "id": "lSiuBfGiFlQM"
   },
   "source": [
    "<p align=\"center\">\n",
    "  <img src=\"https://media.giphy.com/media/v1.Y2lkPTc5MGI3NjExODJnMHJzNzlkNmQweXoyY3ltbnZ2ZDlxY2c0aW5jcHNzeDNtOXBsdCZlcD12MV9pbnRlcm5hbF9naWZfYnlfaWQmY3Q9Zw/AbPdhwsMgjMjax5reo/giphy.gif\" width=\"400\">\n",
    "</p>"
   ]
  },
  {
   "cell_type": "markdown",
   "metadata": {
    "id": "wPn8R-6u877j"
   },
   "source": [
    "\n",
    "\n",
    "Consumida en la tristeza el despido de Renacín, Smapina ha decaído en su desempeño, lo que se ha traducido en un irregular tratamiento del agua. Esto ha implicado una baja en la calidad del agua, llegando a haber algunos puntos de la comuna en la que el vital elemento no es apto para el consumo humano. Es por esto que la sanitaria pública de la municipalidad de Maipú se ha contactado con ustedes para que le entreguen una urgente solución a este problema (a la vez que dejan a Smapina, al igual que Renacín, sin trabajo 😔).\n",
    "\n",
    "El problema que la empresa le ha solicitado resolver es el de elaborar un sistema que les permita saber si el agua es potable o no. Para esto, la sanitaria les ha proveido una base de datos con la lectura de múltiples sensores IOT colocados en diversas cañerías, conductos y estanques. Estos sensores señalan nueve tipos de mediciones químicas y más una etiqueta elaborada en laboratorio que indica si el agua es potable o no el agua.\n",
    "\n",
    "La idea final es que puedan, en el caso que el agua no sea potable, dar un aviso inmediato para corregir el problema. Tenga en cuenta que parte del equipo docente vive en Maipú y su intoxicación podría implicar graves problemas para el cierre del curso.\n",
    "\n",
    "Atributos:\n",
    "\n",
    "1. pH value\n",
    "2. Hardness\n",
    "3. Solids (Total dissolved solids - TDS)\n",
    "4. Chloramines\n",
    "5. Sulfate\n",
    "6. Conductivity\n",
    "7. Organic_carbon\n",
    "8. Trihalomethanes\n",
    "9. Turbidity\n",
    "\n",
    "Variable a predecir:\n",
    "\n",
    "10. Potability (1 si es potable, 0 no potable)\n",
    "\n",
    "Descripción de cada atributo se pueden encontrar en el siguiente link: [dataset](https://www.kaggle.com/adityakadiwal/water-potability)"
   ]
  },
  {
   "cell_type": "markdown",
   "metadata": {
    "id": "-aIr6KegWsjS"
   },
   "source": [
    "# **1. Optimización de modelos con Optuna + MLFlow (2.0 puntos)**\n",
    "\n",
    "El objetivo de esta sección es que ustedes puedan combinar Optuna con MLFlow para poder realizar la optimización de los hiperparámetros de sus modelos.\n",
    "\n",
    "Como aún no hemos hablado nada sobre `MLFlow` cabe preguntarse: **¡¿Qué !\"#@ es `MLflow`?!**\n",
    "\n",
    "<p align=\"center\">\n",
    "  <img src=\"https://media.tenor.com/eusgDKT4smQAAAAC/matthew-perry-chandler-bing.gif\" width=\"400\">\n",
    "</p>\n",
    "\n",
    "## **MLFlow**\n",
    "\n",
    "`MLflow` es una plataforma de código abierto que simplifica la gestión y seguimiento de proyectos de aprendizaje automático. Con sus herramientas, los desarrolladores pueden organizar, rastrear y comparar experimentos, además de registrar modelos y controlar versiones.\n",
    "\n",
    "<p align=\"center\">\n",
    "  <img src=\"https://spark.apache.org/images/mlflow-logo.png\" width=\"350\">\n",
    "</p>\n",
    "\n",
    "Si bien esta plataforma cuenta con un gran número de herramientas y funcionalidades, en este laboratorio trabajaremos con dos:\n",
    "1. **Runs**: Registro que constituye la información guardada tras la ejecución de un entrenamiento. Cada `run` tiene su propio run_id, el cual sirve como identificador para el entrenamiento en sí mismo. Dentro de cada `run` podremos acceder a información como los hiperparámetros utilizados, las métricas obtenidas, las librerías requeridas y hasta nos permite descargar el modelo entrenado.\n",
    "2. **Experiments**: Se utilizan para agrupar y organizar diferentes ejecuciones de modelos (`runs`). En ese sentido, un experimento puede agrupar 1 o más `runs`. De esta manera, es posible también registrar métricas, parámetros y archivos (artefactos) asociados a cada experimento.\n",
    "\n",
    "### **Todo bien pero entonces, ¿cómo se usa en la práctica `MLflow`?**\n",
    "\n",
    "Es sencillo! Considerando un problema de machine learning genérico, podemos registrar la información relevante del entrenamiento ejecutando `mlflow.autolog()` antes entrenar nuestro modelo. Veamos este bonito ejemplo facilitado por los mismos creadores de `MLflow`:\n",
    "\n",
    "```python\n",
    "#!pip install mlflow\n",
    "import mlflow # importar mlflow\n",
    "\n",
    "from sklearn.model_selection import train_test_split\n",
    "from sklearn.datasets import load_diabetes\n",
    "from sklearn.ensemble import RandomForestRegressor\n",
    "\n",
    "db = load_diabetes()\n",
    "X_train, X_test, y_train, y_test = train_test_split(db.data, db.target)\n",
    "\n",
    "# Create and train models.\n",
    "rf = RandomForestRegressor(n_estimators=100, max_depth=6, max_features=3)\n",
    "\n",
    "mlflow.autolog() # registrar automáticamente información del entrenamiento\n",
    "with mlflow.start_run(): # delimita inicio y fin del run\n",
    "    # aquí comienza el run\n",
    "    rf.fit(X_train, y_train) # train the model\n",
    "    predictions = rf.predict(X_test) # Use the model to make predictions on the test dataset.\n",
    "    # aquí termina el run\n",
    "```\n",
    "\n",
    "Si ustedes ejecutan el código anterior en sus máquinas locales (desde un jupyter notebook por ejemplo) se darán cuenta que en su directorio *root* se ha creado la carpeta `mlruns`. Esta carpeta lleva el tracking de todos los entrenamientos ejecutados desde el directorio root (importante: si se cambian de directorio y vuelven a ejecutar el código anterior, se creará otra carpeta y no tendrán acceso al entrenamiento anterior). Para visualizar estos entrenamientos, `MLflow` nos facilita hermosa interfaz visual a la que podemos acceder ejecutando:\n",
    "\n",
    "```\n",
    "mlflow ui\n",
    "```\n",
    "\n",
    "y luego pinchando en la ruta http://127.0.0.1:5000 que nos retorna la terminal. Veamos en vivo algunas de sus funcionalidades!\n",
    "\n",
    "<p align=\"center\">\n",
    "  <img src=\"https://media4.giphy.com/media/v1.Y2lkPTc5MGI3NjExZXVuM3A5MW1heDFpa21qbGlwN2pyc2VoNnZsMmRzODZxdnluemo2bCZlcD12MV9pbnRlcm5hbF9naWZfYnlfaWQmY3Q9Zw/3o84sq21TxDH6PyYms/giphy.gif\" width=\"400\">\n",
    "</p>\n",
    "\n",
    "Les dejamos también algunos comandos útiles:\n",
    "\n",
    "- `mlflow.create_experiment(\"nombre_experimento\")`: Les permite crear un nuevo experimento para agrupar entrenamientos\n",
    "- `mlflow.log_metric(\"nombre_métrica\", métrica)`: Les permite registrar una métrica *custom* bajo el nombre de \"nombre_métrica\"\n"
   ]
  },
  {
   "cell_type": "markdown",
   "metadata": {
    "id": "ptP_ygr7S04t"
   },
   "source": [
    "## **1.1 Combinando Optuna + MLflow (2.0 puntos)**\n",
    "\n",
    "Ahora que tenemos conocimiento de ambas herramientas, intentemos ahora combinarlas para **más sabor**. El objetivo de este apartado es simple: automatizar la optimización de los parámetros de nuestros modelos usando `Optuna` y registrando de forma automática cada resultado en `MLFlow`.\n",
    "\n",
    "Considerando el objetivo planteado, se le pide completar la función `optimize_model`, la cual debe:\n",
    "- **Optimizar los hiperparámetros del modelo `XGBoost` usando `Optuna`.**\n",
    "- **Registrar cada entrenamiento en un experimento nuevo**, asegurándose de que la métrica `f1-score` se registre como `\"valid_f1\"`. No se deben guardar todos los experimentos en *Default*; en su lugar, cada `experiment` y `run` deben tener nombres interpretables, reconocibles y diferentes a los nombres por defecto (por ejemplo, para un run: \"XGBoost con lr 0.1\").\n",
    "- **Guardar los gráficos de Optuna** dentro de una carpeta de artefactos de Mlflow llamada `/plots`.\n",
    "- **Devolver el mejor modelo** usando la función `get_best_model` y serializarlo en el disco con `pickle.dump`. Luego, guardar el modelo en la carpeta `/models`.\n",
    "- **Guardar el código en `optimize.py`**. La ejecución de `python optimize.py` debería ejecutar la función `optimize_model`.\n",
    "- **Guardar las versiones de las librerías utilizadas** en el desarrollo.\n",
    "- **Respalde las configuraciones del modelo final y la importancia de las variables** en un gráfico dentro de la carpeta `/plots` creada anteriormente.\n",
    "\n",
    "*Hint: Le puede ser útil revisar los parámetros que recibe `mlflow.start_run`*\n",
    "\n",
    "```python\n",
    "def get_best_model(experiment_id):\n",
    "    runs = mlflow.search_runs(experiment_id)\n",
    "    best_model_id = runs.sort_values(\"metrics.valid_f1\")[\"run_id\"].iloc[0]\n",
    "    best_model = mlflow.sklearn.load_model(\"runs:/\" + best_model_id + \"/model\")\n",
    "\n",
    "    return best_model\n",
    "```"
   ]
  },
  {
   "cell_type": "code",
   "execution_count": 2,
   "metadata": {},
   "outputs": [
    {
     "name": "stderr",
     "output_type": "stream",
     "text": [
      "[I 2024-11-27 10:21:55,983] A new study created in memory with name: no-name-f1635378-15a2-417a-a6bf-accbb0fb2ea5\n",
      "[I 2024-11-27 10:21:57,181] Trial 0 finished with value: 0.37462235649546827 and parameters: {'n_estimators': 179, 'max_depth': 10, 'learning_rate': 0.029648636953431076, 'gamma': 4.202257309934926, 'min_child_weight': 9, 'subsample': 0.6353062167096082, 'colsample_bytree': 0.8101531008641272}. Best is trial 0 with value: 0.37462235649546827.\n",
      "[I 2024-11-27 10:21:57,516] Trial 1 finished with value: 0.3953488372093023 and parameters: {'n_estimators': 66, 'max_depth': 6, 'learning_rate': 0.07997881111451478, 'gamma': 2.451822655728664, 'min_child_weight': 10, 'subsample': 0.9917906544750916, 'colsample_bytree': 0.9413135005857125}. Best is trial 1 with value: 0.3953488372093023.\n",
      "[I 2024-11-27 10:21:57,835] Trial 2 finished with value: 0.36795252225519287 and parameters: {'n_estimators': 410, 'max_depth': 9, 'learning_rate': 0.11226131862723339, 'gamma': 4.426415704461895, 'min_child_weight': 7, 'subsample': 0.8664787092359288, 'colsample_bytree': 0.7594630410484438}. Best is trial 1 with value: 0.3953488372093023.\n",
      "[I 2024-11-27 10:21:58,126] Trial 3 finished with value: 0.4304461942257218 and parameters: {'n_estimators': 86, 'max_depth': 7, 'learning_rate': 0.055913482369954345, 'gamma': 0.3884004466271562, 'min_child_weight': 3, 'subsample': 0.9645482255872618, 'colsample_bytree': 0.9156165265438183}. Best is trial 3 with value: 0.4304461942257218.\n",
      "[I 2024-11-27 10:21:58,314] Trial 4 finished with value: 0.3052959501557632 and parameters: {'n_estimators': 119, 'max_depth': 3, 'learning_rate': 0.07620217277135327, 'gamma': 3.8284762256094513, 'min_child_weight': 4, 'subsample': 0.6972925530489058, 'colsample_bytree': 0.5504790024028743}. Best is trial 3 with value: 0.4304461942257218.\n",
      "[I 2024-11-27 10:21:58,969] Trial 5 finished with value: 0.442159383033419 and parameters: {'n_estimators': 286, 'max_depth': 9, 'learning_rate': 0.02681448403800035, 'gamma': 1.5941684716487465, 'min_child_weight': 1, 'subsample': 0.7702498541835091, 'colsample_bytree': 0.9853311808073882}. Best is trial 5 with value: 0.442159383033419.\n",
      "[I 2024-11-27 10:21:59,205] Trial 6 finished with value: 0.23648648648648649 and parameters: {'n_estimators': 254, 'max_depth': 4, 'learning_rate': 0.057140640188727776, 'gamma': 4.26139438054911, 'min_child_weight': 4, 'subsample': 0.9296550261726038, 'colsample_bytree': 0.650468007529984}. Best is trial 5 with value: 0.442159383033419.\n",
      "[I 2024-11-27 10:21:59,599] Trial 7 finished with value: 0.3701492537313433 and parameters: {'n_estimators': 234, 'max_depth': 9, 'learning_rate': 0.022047215509887745, 'gamma': 3.353476352662142, 'min_child_weight': 2, 'subsample': 0.548493345575889, 'colsample_bytree': 0.5899644229678067}. Best is trial 5 with value: 0.442159383033419.\n",
      "[I 2024-11-27 10:21:59,913] Trial 8 finished with value: 0.39444444444444443 and parameters: {'n_estimators': 418, 'max_depth': 5, 'learning_rate': 0.11696084863932407, 'gamma': 3.8982493502574322, 'min_child_weight': 3, 'subsample': 0.8054178992081881, 'colsample_bytree': 0.81851195241043}. Best is trial 5 with value: 0.442159383033419.\n",
      "[I 2024-11-27 10:22:00,336] Trial 9 finished with value: 0.4585365853658537 and parameters: {'n_estimators': 434, 'max_depth': 7, 'learning_rate': 0.12511261943645174, 'gamma': 1.8805067355295706, 'min_child_weight': 5, 'subsample': 0.7753809181640063, 'colsample_bytree': 0.636089761570281}. Best is trial 9 with value: 0.4585365853658537.\n",
      "[I 2024-11-27 10:22:00,961] Trial 10 finished with value: 0.49137931034482757 and parameters: {'n_estimators': 498, 'max_depth': 7, 'learning_rate': 0.23268006383362247, 'gamma': 1.1834536146255803, 'min_child_weight': 6, 'subsample': 0.500605106932244, 'colsample_bytree': 0.7039414108854467}. Best is trial 10 with value: 0.49137931034482757.\n",
      "[I 2024-11-27 10:22:01,567] Trial 11 finished with value: 0.5031982942430704 and parameters: {'n_estimators': 497, 'max_depth': 7, 'learning_rate': 0.292311945894347, 'gamma': 1.0003516986422132, 'min_child_weight': 6, 'subsample': 0.507582722173836, 'colsample_bytree': 0.690985037180477}. Best is trial 11 with value: 0.5031982942430704.\n",
      "[I 2024-11-27 10:22:02,278] Trial 12 finished with value: 0.48717948717948717 and parameters: {'n_estimators': 490, 'max_depth': 7, 'learning_rate': 0.2857462521260732, 'gamma': 0.3599161408859395, 'min_child_weight': 7, 'subsample': 0.5046631864768647, 'colsample_bytree': 0.7078641905856518}. Best is trial 11 with value: 0.5031982942430704.\n",
      "[I 2024-11-27 10:22:02,831] Trial 13 finished with value: 0.5065502183406113 and parameters: {'n_estimators': 499, 'max_depth': 6, 'learning_rate': 0.2811539248354496, 'gamma': 1.1551958871195591, 'min_child_weight': 7, 'subsample': 0.6063188211058517, 'colsample_bytree': 0.732943688001614}. Best is trial 13 with value: 0.5065502183406113.\n",
      "[I 2024-11-27 10:22:03,350] Trial 14 finished with value: 0.5226781857451404 and parameters: {'n_estimators': 349, 'max_depth': 5, 'learning_rate': 0.18940669003733496, 'gamma': 0.9150495747701924, 'min_child_weight': 8, 'subsample': 0.6085404348665534, 'colsample_bytree': 0.8428320214319918}. Best is trial 14 with value: 0.5226781857451404.\n",
      "[I 2024-11-27 10:22:03,871] Trial 15 finished with value: 0.37790697674418605 and parameters: {'n_estimators': 341, 'max_depth': 5, 'learning_rate': 0.011549560838091028, 'gamma': 2.51303215092634, 'min_child_weight': 8, 'subsample': 0.6177141773130889, 'colsample_bytree': 0.8493376215824064}. Best is trial 14 with value: 0.5226781857451404.\n",
      "[I 2024-11-27 10:22:04,369] Trial 16 finished with value: 0.48337028824833705 and parameters: {'n_estimators': 356, 'max_depth': 5, 'learning_rate': 0.1748287690168588, 'gamma': 0.8586872726690302, 'min_child_weight': 9, 'subsample': 0.674728933188627, 'colsample_bytree': 0.8648474999665983}. Best is trial 14 with value: 0.5226781857451404.\n",
      "[I 2024-11-27 10:22:04,789] Trial 17 finished with value: 0.4818181818181818 and parameters: {'n_estimators': 337, 'max_depth': 3, 'learning_rate': 0.20383784505179242, 'gamma': 0.05791887471445811, 'min_child_weight': 8, 'subsample': 0.6000163853179664, 'colsample_bytree': 0.7594788975033355}. Best is trial 14 with value: 0.5226781857451404.\n",
      "[I 2024-11-27 10:22:05,215] Trial 18 finished with value: 0.477326968973747 and parameters: {'n_estimators': 386, 'max_depth': 6, 'learning_rate': 0.1703666941963308, 'gamma': 2.2402368247406526, 'min_child_weight': 10, 'subsample': 0.700968632314006, 'colsample_bytree': 0.9031047413350691}. Best is trial 14 with value: 0.5226781857451404.\n",
      "[I 2024-11-27 10:22:05,564] Trial 19 finished with value: 0.4413145539906103 and parameters: {'n_estimators': 301, 'max_depth': 4, 'learning_rate': 0.1516109630236772, 'gamma': 3.010271926690581, 'min_child_weight': 7, 'subsample': 0.5712044279390709, 'colsample_bytree': 0.791697210624092}. Best is trial 14 with value: 0.5226781857451404.\n"
     ]
    },
    {
     "data": {
      "text/plain": [
       "<Figure size 1000x800 with 0 Axes>"
      ]
     },
     "metadata": {},
     "output_type": "display_data"
    },
    {
     "data": {
      "image/png": "[encoded data removed]",
      "text/plain": [
       "<Figure size 640x480 with 1 Axes>"
      ]
     },
     "metadata": {},
     "output_type": "display_data"
    }
   ],
   "source": [
    "import mlflow\n",
    "import optuna\n",
    "import os\n",
    "import pickle\n",
    "import pandas as pd\n",
    "import matplotlib.pyplot as plt\n",
    "from sklearn.metrics import f1_score\n",
    "from sklearn.model_selection import train_test_split\n",
    "from xgboost import XGBClassifier, plot_importance\n",
    "import json\n",
    "\n",
    "models_path = os.path.join(\"models\")\n",
    "plots_path = os.path.join(\"plots\")\n",
    "mlflow_dir = os.path.join(\"mlruns\")\n",
    "\n",
    "os.makedirs(models_path, exist_ok=True)\n",
    "os.makedirs(plots_path, exist_ok=True)\n",
    "\n",
    "# Cargar el dataset desde Google Drive\n",
    "data = pd.read_csv(os.path.join(\"water_potability.csv\"))\n",
    "X = data.drop(\"Potability\", axis=1)\n",
    "y = data[\"Potability\"]\n",
    "\n",
    "# Función para obtener el mejor modelo\n",
    "def get_best_model(experiment_id):\n",
    "    runs = mlflow.search_runs(experiment_id)\n",
    "    best_model_id = runs.sort_values(\"metrics.valid_f1\", ascending=False)[\"run_id\"].iloc[0]\n",
    "    best_model = mlflow.sklearn.load_model(f\"runs:/{best_model_id}/model\")\n",
    "    return best_model\n",
    "\n",
    "# Función de optimización con Optuna\n",
    "def objective(trial):\n",
    "    with mlflow.start_run(nested=True, run_name=f\"XGBoost Run {trial.number}\"):\n",
    "        params = {\n",
    "            \"n_estimators\": trial.suggest_int(\"n_estimators\", 50, 500),\n",
    "            \"max_depth\": trial.suggest_int(\"max_depth\", 3, 10),\n",
    "            \"learning_rate\": trial.suggest_float(\"learning_rate\", 0.01, 0.3, log=True),\n",
    "            \"gamma\": trial.suggest_float(\"gamma\", 0, 5),\n",
    "            \"min_child_weight\": trial.suggest_int(\"min_child_weight\", 1, 10),\n",
    "            \"subsample\": trial.suggest_float(\"subsample\", 0.5, 1.0),\n",
    "            \"colsample_bytree\": trial.suggest_float(\"colsample_bytree\", 0.5, 1.0),\n",
    "        }\n",
    "\n",
    "        X_train, X_val, y_train, y_val = train_test_split(X, y, test_size=0.2, random_state=42)\n",
    "\n",
    "        model = XGBClassifier(**params, eval_metric=\"logloss\")\n",
    "        model.fit(X_train, y_train)\n",
    "\n",
    "        y_pred = model.predict(X_val)\n",
    "        valid_f1 = f1_score(y_val, y_pred)\n",
    "\n",
    "        mlflow.log_params(params)\n",
    "        mlflow.log_metric(\"valid_f1\", valid_f1)\n",
    "\n",
    "    return valid_f1\n",
    "\n",
    "# Función principal\n",
    "def optimize_model():\n",
    "    experiment_name = \"XGBoost_Optimization\"\n",
    "    mlflow.set_experiment(experiment_name)\n",
    "    study = optuna.create_study(direction=\"maximize\")\n",
    "\n",
    "    with mlflow.start_run(run_name=\"XGBoost Optimization\"):\n",
    "        study.optimize(objective, n_trials=20)\n",
    "        best_params = study.best_params\n",
    "        mlflow.log_params(best_params)\n",
    "        mlflow.log_metric(\"best_valid_f1\", study.best_value)\n",
    "\n",
    "        # Guardar los gráficos de Optuna\n",
    "        param_importance_path = os.path.join(plots_path, \"param_importance.png\")\n",
    "        optimization_history_path = os.path.join(plots_path, \"optimization_history.png\")\n",
    "\n",
    "        optuna.visualization.plot_param_importances(study).write_image(param_importance_path)\n",
    "        optuna.visualization.plot_optimization_history(study).write_image(optimization_history_path)\n",
    "\n",
    "        mlflow.log_artifact(param_importance_path)\n",
    "        mlflow.log_artifact(optimization_history_path)\n",
    "\n",
    "        # Guardar el mejor modelo\n",
    "        experiment_id = mlflow.get_experiment_by_name(experiment_name).experiment_id\n",
    "        best_model = XGBClassifier(**best_params, eval_metric=\"logloss\")\n",
    "        best_model.fit(X, y)\n",
    "\n",
    "        best_model_path = os.path.join(models_path, \"best_model.pkl\")\n",
    "        with open(best_model_path, \"wb\") as f:\n",
    "            pickle.dump(best_model, f)\n",
    "\n",
    "        mlflow.log_artifact(best_model_path)\n",
    "\n",
    "        # Gráfico de importancia de variables\n",
    "        feature_importance_path = os.path.join(plots_path, \"feature_importance.png\")\n",
    "        plt.figure(figsize=(10, 8))\n",
    "        plot_importance(best_model, max_num_features=10)\n",
    "        plt.savefig(feature_importance_path)\n",
    "        mlflow.log_artifact(feature_importance_path)\n",
    "\n",
    "        # Guardar versiones de librerías\n",
    "        versions_path = os.path.join(\"versions.json\")\n",
    "        versions = {\n",
    "            \"mlflow\": mlflow.__version__,\n",
    "            \"optuna\": optuna.__version__,\n",
    "            \"xgboost\": \"1.7.5\",\n",
    "            \"pandas\": pd.__version__,\n",
    "        }\n",
    "        with open(versions_path, \"w\") as f:\n",
    "            json.dump(versions, f)\n",
    "        mlflow.log_artifact(versions_path)\n",
    "\n",
    "if __name__ == \"__main__\":\n",
    "    optimize_model()\n"
   ]
  },
  {
   "cell_type": "markdown",
   "metadata": {
    "id": "tL2iG18289j9"
   },
   "source": [
    "# **2. FastAPI (2.0 puntos)**\n",
    "\n",
    "<div align=\"center\">\n",
    "  <img src=\"https://media3.giphy.com/media/YQitE4YNQNahy/giphy-downsized-large.gif\" width=\"500\">\n",
    "</div>\n",
    "\n",
    "Con el modelo ya entrenado, la idea de esta sección es generar una API REST a la cual se le pueda hacer *requests* para así interactuar con su modelo. En particular, se le pide:\n",
    "\n",
    "- Guardar el código de esta sección en el archivo `main.py`. Note que ejecutar `python main.py` debería levantar el servidor en el puerto por defecto.\n",
    "- Defina `GET` con ruta tipo *home* que describa brevemente su modelo, el problema que intenta resolver, su entrada y salida.\n",
    "- Defina un `POST` a la ruta `/potabilidad/` donde utilice su mejor optimizado para predecir si una medición de agua es o no potable. Por ejemplo, una llamada de esta ruta con un *body*:\n",
    "\n",
    "```json\n",
    "{\n",
    "   \"ph\":10.316400384553162,\n",
    "   \"Hardness\":217.2668424334475,\n",
    "   \"Solids\":10676.508475429378,\n",
    "   \"Chloramines\":3.445514571005745,\n",
    "   \"Sulfate\":397.7549459751925,\n",
    "   \"Conductivity\":492.20647361771086,\n",
    "   \"Organic_carbon\":12.812732207582542,\n",
    "   \"Trihalomethanes\":72.28192021570328,\n",
    "   \"Turbidity\":3.4073494284238364\n",
    "}\n",
    "```\n",
    "\n",
    "Su servidor debería retornar una respuesta HTML con código 200 con:\n",
    "\n",
    "\n",
    "```json\n",
    "{\n",
    "  \"potabilidad\": 0 # respuesta puede variar según el clasificador que entrenen\n",
    "}\n",
    "```\n",
    "\n",
    "**`HINT:` Recuerde que puede utilizar [http://localhost:8000/docs](http://localhost:8000/docs) para hacer un `POST`.**"
   ]
  },
  {
   "cell_type": "markdown",
   "metadata": {
    "id": "HSausqDJ9CQh"
   },
   "source": [
    "# **3. Docker (2 puntos)**"
   ]
  },
  {
   "cell_type": "markdown",
   "metadata": {
    "id": "fNmC483flS00"
   },
   "source": [
    "<div align=\"center\">\n",
    "  <img src=\"https://miro.medium.com/v2/resize:fit:1400/1*9rafh2W0rbRJIKJzqYc8yA.gif\" width=\"500\">\n",
    "</div>"
   ]
  },
  {
   "cell_type": "markdown",
   "metadata": {
    "id": "niMA_qsCjqlv"
   },
   "source": [
    "Tras el éxito de su aplicación web para generar la salida, Smapina le solicita que genere un contenedor para poder ejecutarla en cualquier computador de la empresa de agua potable.\n",
    "\n",
    "## **3.1 Creación de Container (1 punto)**\n",
    "\n",
    "Cree un Dockerfile que use una imagen base de Python, copie los archivos del proyecto e instale las dependencias desde un `requirements.txt`. Con esto, construya y ejecute el contenedor Docker para la API configurada anteriormente. Entregue el código fuente (incluyendo `main.py`, `requirements.txt`, y `Dockerfile`) y la imagen Docker de la aplicación. Para la dockerización, asegúrese de cumplir con los siguientes puntos:\n",
    "\n",
    "1. **Generar un archivo `.dockerignore`** que ignore carpetas y archivos innecesarios dentro del contenedor.\n",
    "2. **Configurar un volumen** que permita la persistencia de los datos en una ruta local del computador.\n",
    "3. **Exponer el puerto** para acceder a la ruta de la API sin tener que entrar al contenedor directamente.\n",
    "4. **Incluir imágenes en el notebook** que muestren la ejecución del contenedor y los resultados obtenidos.\n",
    "5. **Revisar y comentar los recursos utilizados por el contenedor**. Analice si los contenedores son livianos en términos de recursos.\n",
    "\n",
    "## **3.2 Preguntas de Smapina (1 punto)**\n",
    "Tras haber experimentado con Docker, Smapina desea profundizar más en el tema y decide realizarle las siguientes consultas:\n",
    "\n",
    "- ¿Cómo se diferencia Docker de una máquina virtual (VM)?\n",
    "- ¿Cuál es la diferencia entre usar Docker y ejecutar la aplicación directamente en el sistema local?\n",
    "- ¿Cómo asegura Docker la consistencia entre diferentes entornos de desarrollo y producción?\n",
    "- ¿Cómo se gestionan los volúmenes en Docker para la persistencia de datos?\n",
    "- ¿Qué son Dockerfile y docker-compose.yml, y cuál es su propósito?"
   ]
  },
  {
   "cell_type": "code",
   "execution_count": null,
   "metadata": {
    "id": "6GwP2aLT9C1l"
   },
   "outputs": [],
   "source": []
  },
  {
   "cell_type": "markdown",
   "metadata": {
    "id": "8xJ_ZK1IfnZW"
   },
   "source": [
    "# Conclusión\n",
    "Eso ha sido todo para el lab de hoy, recuerden que el laboratorio tiene un plazo de entrega de una semana. Cualquier duda del laboratorio, no duden en contactarnos por mail o U-cursos.\n",
    "\n",
    "<div align=\"center\">\n",
    "  <img src=\"https://i.pinimg.com/originals/84/5d/f1/845df1aefc6a5e37ae575327a0cc6e43.gif\" width=\"500\">\n",
    "</div>"
   ]
  }
 ],
 "metadata": {
  "colab": {
   "provenance": []
  },
  "kernelspec": {
   "display_name": "base",
   "language": "python",
   "name": "python3"
  },
  "language_info": {
   "codemirror_mode": {
    "name": "ipython",
    "version": 3
   },
   "file_extension": ".py",
   "mimetype": "text/x-python",
   "name": "python",
   "nbconvert_exporter": "python",
   "pygments_lexer": "ipython3",
   "version": "3.12.3"
  }
 },
 "nbformat": 4,
 "nbformat_minor": 0
}
